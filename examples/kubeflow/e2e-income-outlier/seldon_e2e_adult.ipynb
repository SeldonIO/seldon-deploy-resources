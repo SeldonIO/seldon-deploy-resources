{
 "cells": [
  {
   "cell_type": "markdown",
   "metadata": {
    "tags": []
   },
   "source": [
    "# End to End Machine Learning Pipeline for Income Prediction with Seldon Deploy\n",
    "\n",
    "We use [demographic features from the 1996 US census](https://archive.ics.uci.edu/ml/datasets/census+income) to build an end to end machine learning pipeline. The pipeline is also annotated so it can be run as a [Kubeflow Pipeline](https://www.kubeflow.org/docs/pipelines/overview/pipelines-overview/) using the [Kale](https://github.com/kubeflow-kale/kale) pipeline generator.\n",
    "\n",
    "The notebook/pipeline stages are:\n",
    "\n",
    " 1. Setup \n",
    "   * Imports\n",
    "   * pipeline-parameters\n",
    "   * minio client test\n",
    " 1. Train a simple sklearn model and push to minio\n",
    " 1. Prepare an Anchors explainer for model and push to minio\n",
    " 1. Test Explainer\n",
    " 1. Train an isolation forest outlier detector for model and push to minio\n",
    " 1. Deploy a Seldon model and test using the Seldon Deploy Enterprise API\n",
    " 1. Deploy an outlier detector with the Seldon Deploy Enterprise API\n",
    " 1. Test the outlier detector\n",
    "\n"
   ]
  },
  {
   "cell_type": "code",
   "execution_count": 22,
   "metadata": {
    "tags": [
     "imports"
    ]
   },
   "outputs": [],
   "source": [
    "import numpy as np\n",
    "from sklearn.ensemble import RandomForestClassifier\n",
    "from sklearn.compose import ColumnTransformer\n",
    "from sklearn.pipeline import Pipeline\n",
    "from sklearn.impute import SimpleImputer\n",
    "from sklearn.metrics import accuracy_score\n",
    "from sklearn.preprocessing import StandardScaler, OneHotEncoder\n",
    "from alibi.explainers import AnchorTabular\n",
    "from alibi.datasets import fetch_adult\n",
    "from minio import Minio\n",
    "from minio.error import ResponseError\n",
    "from joblib import dump, load\n",
    "import dill\n",
    "import time\n",
    "import json\n",
    "from subprocess import run, Popen, PIPE\n",
    "from alibi_detect.utils.data import create_outlier_batch\n",
    "import swagger_client\n",
    "from swagger_client.rest import ApiException\n",
    "import yaml\n",
    "import json\n",
    "import urllib3\n",
    "urllib3.disable_warnings()"
   ]
  },
  {
   "cell_type": "code",
   "execution_count": 23,
   "metadata": {
    "tags": [
     "pipeline-parameters"
    ]
   },
   "outputs": [],
   "source": [
    "MINIO_HOST=\"minio-service.kubeflow:9000\"\n",
    "MINIO_ACCESS_KEY=\"minio\"\n",
    "MINIO_SECRET_KEY=\"minio123\"\n",
    "MINIO_MODEL_BUCKET=\"seldon\"\n",
    "INCOME_MODEL_PATH=\"sklearn/income/model\"\n",
    "EXPLAINER_MODEL_PATH=\"sklearn/income/explainer\"\n",
    "OUTLIER_MODEL_PATH=\"sklearn/income/outlier\"\n",
    "DEPLOY_NAMESPACE=\"admin\"\n",
    "DEPLOY_SERVER = \"https://x.x.x.x/seldon-deploy/\"\n",
    "DEPLOY_USER = \"admin@seldon.io\"\n",
    "DEPLOY_PASSWORD = \"12341234\""
   ]
  },
  {
   "cell_type": "code",
   "execution_count": 24,
   "metadata": {
    "tags": [
     "functions"
    ]
   },
   "outputs": [],
   "source": [
    "def get_minio():\n",
    "    return Minio(MINIO_HOST,\n",
    "                    access_key=MINIO_ACCESS_KEY,\n",
    "                    secret_key=MINIO_SECRET_KEY,\n",
    "                    secure=False)"
   ]
  },
  {
   "cell_type": "code",
   "execution_count": 25,
   "metadata": {
    "tags": []
   },
   "outputs": [],
   "source": [
    "def get_swagger_configuration():\n",
    "    configuration = swagger_client.Configuration()\n",
    "    configuration.host = 'http://seldon-deploy.seldon-system/seldon-deploy/api/v1alpha1'\n",
    "    return configuration"
   ]
  },
  {
   "cell_type": "code",
   "execution_count": 26,
   "metadata": {
    "tags": []
   },
   "outputs": [],
   "source": [
    "import requests\n",
    "\n",
    "from urllib.parse import urlparse\n",
    "\n",
    "KF_SESSION_COOKIE_NAME = \"authservice_session\"\n",
    "\n",
    "\n",
    "class SessionAuthenticator:\n",
    "    \"\"\"\n",
    "    Returns the cookie token.\n",
    "    \"\"\"\n",
    "\n",
    "    def __init__(self, server: str):\n",
    "        self._server = server\n",
    "\n",
    "        url = urlparse(server)\n",
    "        self._host = f\"{url.scheme}://{url.netloc}\"\n",
    "\n",
    "    def authenticate(self, user: str, password: str) -> str:\n",
    "        auth_path = self._get_auth_path()\n",
    "        success_path = self._submit_auth(auth_path, user, password)\n",
    "        session_cookie = self._get_session_cookie(success_path)\n",
    "        return session_cookie\n",
    "\n",
    "    def _get_auth_path(self) -> str:\n",
    "        # Send unauthenticated request\n",
    "        res = requests.get(self._server, allow_redirects=False, verify=False)\n",
    "\n",
    "        # Follow the 302 redirect\n",
    "        oidc_path = res.headers[\"Location\"]\n",
    "        oidc_endpoint = f\"{self._host}{oidc_path}\"\n",
    "        res = requests.get(oidc_endpoint, allow_redirects=False, verify=False)\n",
    "\n",
    "        return res.headers[\"Location\"]\n",
    "\n",
    "    def _submit_auth(self, auth_path: str, user: str, password: str) -> str:\n",
    "        auth_endpoint = f\"{self._host}{auth_path}\"\n",
    "        auth_payload = {\"login\": user, \"password\": password}\n",
    "        res = requests.post(auth_endpoint, auth_payload, allow_redirects=False, verify=False)\n",
    "        \n",
    "        login_path = res.headers[\"Location\"]\n",
    "        login_endpoint = f\"{self._host}{login_path}\"\n",
    "        res = requests.get(login_endpoint, allow_redirects=False, verify=False)\n",
    "\n",
    "        return res.headers[\"Location\"]\n",
    "\n",
    "    def _get_session_cookie(self, success_path: str) -> str:\n",
    "        success_endpoint = f\"{self._host}{success_path}\"\n",
    "        res = requests.get(success_endpoint, allow_redirects=False, verify=False)\n",
    "        print(res.cookies)\n",
    "        return res.cookies[KF_SESSION_COOKIE_NAME]\n",
    "\n",
    "def authenticate():\n",
    "    authenticator = SessionAuthenticator(DEPLOY_SERVER)\n",
    "\n",
    "    cookie = authenticator.authenticate(DEPLOY_USER, DEPLOY_PASSWORD)\n",
    "    return cookie\n"
   ]
  },
  {
   "cell_type": "code",
   "execution_count": 27,
   "metadata": {
    "tags": [
     "block:setup"
    ]
   },
   "outputs": [
    {
     "name": "stdout",
     "output_type": "stream",
     "text": [
      "mlpipeline 2020-10-02 09:50:51.490000+00:00\n",
      "seldon 2020-09-19 09:09:50.060000+00:00\n"
     ]
    }
   ],
   "source": [
    "minioClient = get_minio()\n",
    "buckets = minioClient.list_buckets()\n",
    "for bucket in buckets:\n",
    "    print(bucket.name, bucket.creation_date)"
   ]
  },
  {
   "cell_type": "code",
   "execution_count": 28,
   "metadata": {
    "tags": []
   },
   "outputs": [],
   "source": [
    "if not minioClient.bucket_exists(MINIO_MODEL_BUCKET):\n",
    "    minioClient.make_bucket(MINIO_MODEL_BUCKET)"
   ]
  },
  {
   "cell_type": "markdown",
   "metadata": {
    "tags": []
   },
   "source": [
    "## Train Model"
   ]
  },
  {
   "cell_type": "code",
   "execution_count": 6,
   "metadata": {
    "tags": [
     "block:build_model",
     "prev:setup"
    ]
   },
   "outputs": [
    {
     "data": {
      "text/plain": [
       "dict_keys(['data', 'target', 'feature_names', 'target_names', 'category_map'])"
      ]
     },
     "execution_count": 6,
     "metadata": {},
     "output_type": "execute_result"
    }
   ],
   "source": [
    "adult = fetch_adult()\n",
    "adult.keys()"
   ]
  },
  {
   "cell_type": "code",
   "execution_count": 7,
   "metadata": {
    "tags": [
     "block:"
    ]
   },
   "outputs": [],
   "source": [
    "data = adult.data\n",
    "target = adult.target\n",
    "feature_names = adult.feature_names\n",
    "category_map = adult.category_map"
   ]
  },
  {
   "cell_type": "markdown",
   "metadata": {
    "tags": []
   },
   "source": [
    "Note that for your own datasets you can use our utility function [gen_category_map](../api/alibi.utils.data.rst) to create the category map:"
   ]
  },
  {
   "cell_type": "code",
   "execution_count": 8,
   "metadata": {
    "tags": []
   },
   "outputs": [],
   "source": [
    "from alibi.utils.data import gen_category_map"
   ]
  },
  {
   "cell_type": "markdown",
   "metadata": {
    "tags": []
   },
   "source": [
    "Define shuffled training and test set"
   ]
  },
  {
   "cell_type": "code",
   "execution_count": 9,
   "metadata": {
    "tags": []
   },
   "outputs": [],
   "source": [
    "np.random.seed(0)\n",
    "data_perm = np.random.permutation(np.c_[data, target])\n",
    "data = data_perm[:,:-1]\n",
    "target = data_perm[:,-1]"
   ]
  },
  {
   "cell_type": "code",
   "execution_count": 10,
   "metadata": {
    "tags": []
   },
   "outputs": [],
   "source": [
    "idx = 30000\n",
    "X_train,Y_train = data[:idx,:], target[:idx]\n",
    "X_test, Y_test = data[idx+1:,:], target[idx+1:]"
   ]
  },
  {
   "cell_type": "markdown",
   "metadata": {
    "tags": []
   },
   "source": [
    "### Create feature transformation pipeline\n",
    "Create feature pre-processor. Needs to have 'fit' and 'transform' methods. Different types of pre-processing can be applied to all or part of the features. In the example below we will standardize ordinal features and apply one-hot-encoding to categorical features.\n",
    "\n",
    "Ordinal features:"
   ]
  },
  {
   "cell_type": "code",
   "execution_count": 13,
   "metadata": {
    "tags": []
   },
   "outputs": [],
   "source": [
    "ordinal_features = [x for x in range(len(feature_names)) if x not in list(category_map.keys())]\n",
    "ordinal_transformer = Pipeline(steps=[('imputer', SimpleImputer(strategy='median')),\n",
    "                                      ('scaler', StandardScaler())])"
   ]
  },
  {
   "cell_type": "markdown",
   "metadata": {
    "tags": []
   },
   "source": [
    "Categorical features:"
   ]
  },
  {
   "cell_type": "code",
   "execution_count": 14,
   "metadata": {
    "tags": []
   },
   "outputs": [],
   "source": [
    "categorical_features = list(category_map.keys())\n",
    "categorical_transformer = Pipeline(steps=[('imputer', SimpleImputer(strategy='median')),\n",
    "                                          ('onehot', OneHotEncoder(handle_unknown='ignore'))])"
   ]
  },
  {
   "cell_type": "markdown",
   "metadata": {
    "tags": []
   },
   "source": [
    "Combine and fit:"
   ]
  },
  {
   "cell_type": "code",
   "execution_count": 15,
   "metadata": {
    "tags": []
   },
   "outputs": [],
   "source": [
    "preprocessor = ColumnTransformer(transformers=[('num', ordinal_transformer, ordinal_features),\n",
    "                                               ('cat', categorical_transformer, categorical_features)])"
   ]
  },
  {
   "cell_type": "markdown",
   "metadata": {
    "tags": []
   },
   "source": [
    "### Train Random Forest model\n",
    "\n",
    "Fit on pre-processed (imputing, OHE, standardizing) data."
   ]
  },
  {
   "cell_type": "code",
   "execution_count": 16,
   "metadata": {
    "tags": []
   },
   "outputs": [],
   "source": [
    "np.random.seed(0)\n",
    "clf = RandomForestClassifier(n_estimators=50)"
   ]
  },
  {
   "cell_type": "code",
   "execution_count": 17,
   "metadata": {
    "tags": []
   },
   "outputs": [
    {
     "data": {
      "text/plain": [
       "Pipeline(memory=None,\n",
       "     steps=[('preprocess', ColumnTransformer(n_jobs=None, remainder='drop', sparse_threshold=0.3,\n",
       "         transformer_weights=None,\n",
       "         transformers=[('num', Pipeline(memory=None,\n",
       "     steps=[('imputer', SimpleImputer(copy=True, fill_value=None, missing_values=nan,\n",
       "       strategy='median', verbose...obs=None,\n",
       "            oob_score=False, random_state=None, verbose=0,\n",
       "            warm_start=False))])"
      ]
     },
     "execution_count": 17,
     "metadata": {},
     "output_type": "execute_result"
    }
   ],
   "source": [
    "model=Pipeline(steps=[(\"preprocess\",preprocessor),(\"model\",clf)])\n",
    "model.fit(X_train,Y_train)"
   ]
  },
  {
   "cell_type": "markdown",
   "metadata": {
    "tags": []
   },
   "source": [
    "Define predict function"
   ]
  },
  {
   "cell_type": "code",
   "execution_count": 18,
   "metadata": {
    "tags": [
     "block:"
    ]
   },
   "outputs": [],
   "source": [
    "def predict_fn(x):\n",
    "    return model.predict(x)"
   ]
  },
  {
   "cell_type": "code",
   "execution_count": 19,
   "metadata": {
    "tags": [
     "block:",
     "prev:build_model"
    ]
   },
   "outputs": [
    {
     "name": "stdout",
     "output_type": "stream",
     "text": [
      "Train accuracy:  0.9655333333333334\n",
      "Test accuracy:  0.855859375\n"
     ]
    }
   ],
   "source": [
    "#predict_fn = lambda x: clf.predict(preprocessor.transform(x))\n",
    "print('Train accuracy: ', accuracy_score(Y_train, predict_fn(X_train)))\n",
    "print('Test accuracy: ', accuracy_score(Y_test, predict_fn(X_test)))"
   ]
  },
  {
   "cell_type": "code",
   "execution_count": 20,
   "metadata": {
    "tags": []
   },
   "outputs": [
    {
     "data": {
      "text/plain": [
       "['model.joblib']"
      ]
     },
     "execution_count": 20,
     "metadata": {},
     "output_type": "execute_result"
    }
   ],
   "source": [
    "dump(model, 'model.joblib') "
   ]
  },
  {
   "cell_type": "code",
   "execution_count": 21,
   "metadata": {
    "tags": []
   },
   "outputs": [
    {
     "name": "stdout",
     "output_type": "stream",
     "text": [
      "('694bfd00872125a7906e3a12413a3c71-7', None)\n"
     ]
    }
   ],
   "source": [
    "print(get_minio().fput_object(MINIO_MODEL_BUCKET, f\"{INCOME_MODEL_PATH}/model.joblib\", 'model.joblib'))"
   ]
  },
  {
   "cell_type": "markdown",
   "metadata": {
    "tags": []
   },
   "source": [
    "## Train Explainer"
   ]
  },
  {
   "cell_type": "code",
   "execution_count": 22,
   "metadata": {
    "tags": [
     "block:train_explainer",
     "prev:build_model"
    ]
   },
   "outputs": [],
   "source": [
    "model.predict(X_train)\n",
    "explainer = AnchorTabular(predict_fn, feature_names, categorical_names=category_map)"
   ]
  },
  {
   "cell_type": "markdown",
   "metadata": {
    "tags": []
   },
   "source": [
    "Discretize the ordinal features into quartiles"
   ]
  },
  {
   "cell_type": "code",
   "execution_count": 23,
   "metadata": {
    "tags": []
   },
   "outputs": [],
   "source": [
    "explainer.fit(X_train, disc_perc=[25, 50, 75])"
   ]
  },
  {
   "cell_type": "code",
   "execution_count": 24,
   "metadata": {
    "tags": []
   },
   "outputs": [
    {
     "name": "stdout",
     "output_type": "stream",
     "text": [
      "('eae1953a2d48b3fe5ff6a9592a8c01ba-2', None)\n"
     ]
    }
   ],
   "source": [
    "with open(\"explainer.dill\", \"wb\") as dill_file:\n",
    "    dill.dump(explainer, dill_file)    \n",
    "    dill_file.close()\n",
    "print(get_minio().fput_object(MINIO_MODEL_BUCKET, f\"{EXPLAINER_MODEL_PATH}/explainer.dill\", 'explainer.dill'))"
   ]
  },
  {
   "cell_type": "markdown",
   "metadata": {
    "tags": []
   },
   "source": [
    "## Get Explanation\n",
    "\n",
    "Below, we get an anchor for the prediction of the first observation in the test set. An anchor is a sufficient condition - that is, when the anchor holds, the prediction should be the same as the prediction for this instance."
   ]
  },
  {
   "cell_type": "code",
   "execution_count": 25,
   "metadata": {
    "tags": [
     "block:explain",
     "prev:train_explainer"
    ]
   },
   "outputs": [
    {
     "name": "stdout",
     "output_type": "stream",
     "text": [
      "Prediction:  <=50K\n"
     ]
    }
   ],
   "source": [
    "model.predict(X_train)\n",
    "idx = 0\n",
    "class_names = adult.target_names\n",
    "print('Prediction: ', class_names[explainer.predict_fn(X_test[idx].reshape(1, -1))[0]])"
   ]
  },
  {
   "cell_type": "markdown",
   "metadata": {
    "tags": []
   },
   "source": [
    "We set the precision threshold to 0.95. This means that predictions on observations where the anchor holds will be the same as the prediction on the explained instance at least 95% of the time."
   ]
  },
  {
   "cell_type": "code",
   "execution_count": 26,
   "metadata": {
    "tags": []
   },
   "outputs": [
    {
     "name": "stdout",
     "output_type": "stream",
     "text": [
      "Anchor: Marital Status = Separated AND Sex = Female\n",
      "Precision: 0.96\n",
      "Coverage: 0.11\n"
     ]
    }
   ],
   "source": [
    "explanation = explainer.explain(X_test[idx], threshold=0.95)\n",
    "print('Anchor: %s' % (' AND '.join(explanation['names'])))\n",
    "print('Precision: %.2f' % explanation['precision'])\n",
    "print('Coverage: %.2f' % explanation['coverage'])"
   ]
  },
  {
   "cell_type": "markdown",
   "metadata": {
    "tags": []
   },
   "source": [
    "## Train Outlier Detector"
   ]
  },
  {
   "cell_type": "code",
   "execution_count": 27,
   "metadata": {
    "tags": [
     "block:build_outlier",
     "prev:build_model"
    ]
   },
   "outputs": [],
   "source": [
    "from alibi_detect.od import IForest\n",
    "\n",
    "od = IForest(\n",
    "    threshold=0.,\n",
    "    n_estimators=200,\n",
    ")\n"
   ]
  },
  {
   "cell_type": "code",
   "execution_count": 28,
   "metadata": {
    "tags": []
   },
   "outputs": [
    {
     "name": "stderr",
     "output_type": "stream",
     "text": [
      "/usr/local/lib/python3.6/dist-packages/sklearn/ensemble/iforest.py:213: FutureWarning: default contamination parameter 0.1 will change in version 0.22 to \"auto\". This will change the predict method behavior.\n",
      "  FutureWarning)\n",
      "/usr/local/lib/python3.6/dist-packages/sklearn/ensemble/iforest.py:223: FutureWarning: behaviour=\"old\" is deprecated and will be removed in version 0.22. Please use behaviour=\"new\", which makes the decision_function change to match other anomaly detection algorithm API.\n",
      "  FutureWarning)\n"
     ]
    }
   ],
   "source": [
    "od.fit(X_train)"
   ]
  },
  {
   "cell_type": "code",
   "execution_count": 29,
   "metadata": {
    "tags": []
   },
   "outputs": [
    {
     "name": "stdout",
     "output_type": "stream",
     "text": [
      "5.0% outliers\n"
     ]
    }
   ],
   "source": [
    "np.random.seed(0)\n",
    "perc_outlier = 5\n",
    "threshold_batch = create_outlier_batch(X_train, Y_train, n_samples=1000, perc_outlier=perc_outlier)\n",
    "X_threshold, y_threshold = threshold_batch.data.astype('float'), threshold_batch.target\n",
    "#X_threshold = (X_threshold - mean) / stdev\n",
    "print('{}% outliers'.format(100 * y_threshold.mean()))"
   ]
  },
  {
   "cell_type": "code",
   "execution_count": 30,
   "metadata": {
    "tags": []
   },
   "outputs": [
    {
     "name": "stdout",
     "output_type": "stream",
     "text": [
      "New threshold: 0.029017499251428627\n"
     ]
    }
   ],
   "source": [
    "od.infer_threshold(X_threshold, threshold_perc=100-perc_outlier)\n",
    "print('New threshold: {}'.format(od.threshold))\n",
    "threshold = od.threshold"
   ]
  },
  {
   "cell_type": "code",
   "execution_count": 31,
   "metadata": {
    "tags": []
   },
   "outputs": [],
   "source": [
    "X_outlier = [[300,  4,  4,  2,  1,  4,  4,  0,  0,  0, 600,  9]]"
   ]
  },
  {
   "cell_type": "code",
   "execution_count": 32,
   "metadata": {
    "tags": []
   },
   "outputs": [
    {
     "data": {
      "text/plain": [
       "{'data': {'instance_score': array([0.04198649]),\n",
       "  'feature_score': None,\n",
       "  'is_outlier': array([1])},\n",
       " 'meta': {'name': 'IForest',\n",
       "  'detector_type': 'offline',\n",
       "  'data_type': 'tabular'}}"
      ]
     },
     "execution_count": 32,
     "metadata": {},
     "output_type": "execute_result"
    }
   ],
   "source": [
    "od.predict(\n",
    "    X_outlier\n",
    ")"
   ]
  },
  {
   "cell_type": "code",
   "execution_count": 33,
   "metadata": {
    "tags": []
   },
   "outputs": [
    {
     "name": "stderr",
     "output_type": "stream",
     "text": [
      "W0926 08:56:23.527403 139652675462976 saving.py:73] Directory ifoutlier does not exist and is now created.\n"
     ]
    },
    {
     "name": "stdout",
     "output_type": "stream",
     "text": [
      "meta.pickle\n",
      "('e57a0ae93b75c8a169b2d003231243f8', None)\n",
      "IForest.pickle\n",
      "('c9c344f140bd36fc2520ed5abcf67d0b', None)\n"
     ]
    }
   ],
   "source": [
    "from alibi_detect.utils.saving import save_detector, load_detector\n",
    "from os import listdir\n",
    "from os.path import isfile, join\n",
    "\n",
    "filepath=\"ifoutlier\"\n",
    "save_detector(od, filepath) \n",
    "onlyfiles = [f for f in listdir(filepath) if isfile(join(filepath, f))]\n",
    "for filename in onlyfiles:\n",
    "    print(filename)\n",
    "    print(get_minio().fput_object(MINIO_MODEL_BUCKET, f\"{OUTLIER_MODEL_PATH}/{filename}\", join(filepath, filename)))"
   ]
  },
  {
   "cell_type": "markdown",
   "metadata": {
    "tags": []
   },
   "source": [
    "## Deploy Seldon Core Model with API"
   ]
  },
  {
   "cell_type": "code",
   "execution_count": 8,
   "metadata": {
    "tags": [
     "block:deploy_seldon",
     "prev:train_explainer"
    ]
   },
   "outputs": [
    {
     "data": {
      "text/plain": [
       "CompletedProcess(args='cat secret.yaml | kubectl apply -f -', returncode=0)"
      ]
     },
     "execution_count": 8,
     "metadata": {},
     "output_type": "execute_result"
    }
   ],
   "source": [
    "secret = f\"\"\"apiVersion: v1\n",
    "kind: Secret\n",
    "metadata:\n",
    "  name: seldon-init-container-secret\n",
    "  namespace: {DEPLOY_NAMESPACE}\n",
    "type: Opaque\n",
    "stringData:\n",
    "  AWS_ACCESS_KEY_ID: {MINIO_ACCESS_KEY}\n",
    "  AWS_SECRET_ACCESS_KEY: {MINIO_SECRET_KEY}\n",
    "  AWS_ENDPOINT_URL: http://{MINIO_HOST}\n",
    "  USE_SSL: \"false\"\n",
    "\"\"\"\n",
    "with open(\"secret.yaml\",\"w\") as f:\n",
    "    f.write(secret)\n",
    "run(\"cat secret.yaml | kubectl apply -f -\", shell=True)"
   ]
  },
  {
   "cell_type": "code",
   "execution_count": 9,
   "metadata": {
    "tags": []
   },
   "outputs": [
    {
     "data": {
      "text/plain": [
       "CompletedProcess(args='kubectl apply -f sa.yaml', returncode=0)"
      ]
     },
     "execution_count": 9,
     "metadata": {},
     "output_type": "execute_result"
    }
   ],
   "source": [
    "sa = f\"\"\"apiVersion: v1\n",
    "kind: ServiceAccount\n",
    "metadata:\n",
    "  name: minio-sa\n",
    "  namespace: {DEPLOY_NAMESPACE}\n",
    "secrets:\n",
    "  - name: seldon-init-container-secret\n",
    "\"\"\"\n",
    "with open(\"sa.yaml\",\"w\") as f:\n",
    "    f.write(sa)\n",
    "run(\"kubectl apply -f sa.yaml\", shell=True)"
   ]
  },
  {
   "cell_type": "code",
   "execution_count": 10,
   "metadata": {
    "tags": []
   },
   "outputs": [],
   "source": [
    "configuration = get_swagger_configuration()\n",
    "# create an instance of the API class\n",
    "dep_instance = swagger_client.MLDeploymentsApi(swagger_client.ApiClient(configuration))\n",
    "namespace = 'admin' # str | Namespace provides a logical grouping of resources"
   ]
  },
  {
   "cell_type": "markdown",
   "metadata": {
    "tags": []
   },
   "source": [
    "Create the Seldon deployment with the Deploy API"
   ]
  },
  {
   "cell_type": "code",
   "execution_count": 11,
   "metadata": {
    "tags": []
   },
   "outputs": [
    {
     "name": "stdout",
     "output_type": "stream",
     "text": [
      "{\"apiVersion\": \"machinelearning.seldon.io/v1\", \"kind\": \"SeldonDeployment\", \"metadata\": {\"name\": \"income-classifier\", \"namespace\": \"admin\"}, \"spec\": {\"predictors\": [{\"componentSpecs\": null, \"graph\": {\"implementation\": \"SKLEARN_SERVER\", \"modelUri\": \"s3://seldon/sklearn/income/model\", \"envSecretRefName\": \"seldon-init-container-secret\", \"name\": \"classifier\", \"logger\": {\"mode\": \"all\", \"url\": \"http://default-broker\"}}, \"explainer\": {\"type\": \"AnchorTabular\", \"modelUri\": \"s3://seldon/sklearn/income/explainer\", \"envSecretRefName\": \"seldon-init-container-secret\"}, \"name\": \"default\", \"replicas\": 1}]}}\n"
     ]
    }
   ],
   "source": [
    "model_name = \"income-classifier\"\n",
    "model_yaml=f\"\"\"apiVersion: machinelearning.seldon.io/v1\n",
    "kind: SeldonDeployment\n",
    "metadata:\n",
    "  name: {model_name}\n",
    "  namespace: {DEPLOY_NAMESPACE}\n",
    "spec:\n",
    "  predictors:\n",
    "  - componentSpecs:\n",
    "    graph:\n",
    "      implementation: SKLEARN_SERVER\n",
    "      modelUri: s3://{MINIO_MODEL_BUCKET}/{INCOME_MODEL_PATH}\n",
    "      envSecretRefName: seldon-init-container-secret\n",
    "      name: classifier\n",
    "      logger:\n",
    "         mode: all\n",
    "         url: http://default-broker\n",
    "    explainer:\n",
    "      type: AnchorTabular\n",
    "      modelUri: s3://{MINIO_MODEL_BUCKET}/{EXPLAINER_MODEL_PATH}\n",
    "      envSecretRefName: seldon-init-container-secret\n",
    "    name: default\n",
    "    replicas: 1\n",
    "\"\"\"\n",
    "d = yaml.safe_load(model_yaml)\n",
    "model_json = json.dumps(d)\n",
    "print(model_json)\n",
    "created = dep_instance.create_seldon_deployment(model_json, namespace)"
   ]
  },
  {
   "cell_type": "markdown",
   "metadata": {
    "tags": []
   },
   "source": [
    "Wait for the Deployment to be ready"
   ]
  },
  {
   "cell_type": "code",
   "execution_count": 12,
   "metadata": {
    "tags": []
   },
   "outputs": [
    {
     "name": "stdout",
     "output_type": "stream",
     "text": [
      "Creating\n",
      "Creating\n",
      "Creating\n",
      "Creating\n",
      "Creating\n",
      "Creating\n",
      "Creating\n",
      "Creating\n",
      "Available\n"
     ]
    }
   ],
   "source": [
    "state = \"\"\n",
    "while not state == \"Available\":\n",
    "    res = dep_instance.list_seldon_deployments(namespace)\n",
    "    for sd in res.items:\n",
    "        state = sd.status.state\n",
    "        print(sd.status.state)\n",
    "    time.sleep(2)\n",
    "time.sleep(10)"
   ]
  },
  {
   "cell_type": "markdown",
   "metadata": {
    "tags": []
   },
   "source": [
    "Make a prediction request with the Seldon Deploy API"
   ]
  },
  {
   "cell_type": "code",
   "execution_count": 13,
   "metadata": {
    "tags": []
   },
   "outputs": [
    {
     "name": "stdout",
     "output_type": "stream",
     "text": [
      "<RequestsCookieJar[<Cookie authservice_session=MTYwMTcwOTk5MHxOd3dBTkU1SVZrbFpVRkJIVFZKWFJWVkpRa0ZFVVU5WVZGWkpXamRUVXpjMVdESlRORWcwTmtOVFJGTkhSbHBUVkVKQ1RWbFFTa0U9fDOikC7Z6EmKPEGJ8EKLegfZFJfXB78nDQvYfW4Kjmyq for 34.91.115.100/>]>\n",
      "{'data': {'names': ['t:0', 't:1'], 'ndarray': [[0.88, 0.12]]}, 'meta': {}}\n"
     ]
    }
   ],
   "source": [
    "cookie = authenticate()\n",
    "payload='{\"data\": {\"ndarray\": [[53,4,0,2,8,4,4,0,0,0,60,9]]}}'\n",
    "cookie_str = f\"{KF_SESSION_COOKIE_NAME}={cookie}\"\n",
    "predict_instance = swagger_client.PredictApi(swagger_client.ApiClient(configuration,cookie=cookie_str))\n",
    "prediction = predict_instance.predict_seldon_deployment(model_name,namespace, prediction={\"data\": {\"ndarray\": [[53,4,0,2,8,4,4,0,0,0,60,9]]}})\n",
    "print(prediction)"
   ]
  },
  {
   "cell_type": "code",
   "execution_count": 14,
   "metadata": {
    "tags": []
   },
   "outputs": [
    {
     "name": "stdout",
     "output_type": "stream",
     "text": [
      "{'coverage': 0.1047, 'meta': {'name': 'AnchorTabular'}, 'names': ['Marital Status = Separated', 'Sex = Female'], 'precision': 0.9772727272727273, 'raw': {'all_precision': 0, 'coverage': [0.1791, 0.1047], 'examples': [{'covered': [[20, 'Private', 'High School grad', 'Separated', 'Professional', 'Own-child', 'White', 'Male', 'Capital Gain <= 0.00', 'Capital Loss <= 0.00', 15, 'United-States'], [34, 'Private', 'High School grad', 'Separated', 'Admin', 'Not-in-family', 'White', 'Female', 'Capital Gain <= 0.00', 'Capital Loss <= 0.00', 40, 'United-States'], [36, 'Private', 'High School grad', 'Separated', 'White-Collar', 'Husband', 'White', 'Male', 'Capital Gain <= 0.00', 'Capital Loss <= 0.00', 50, 'United-States'], [49, 'Local-gov', 'Dropout', 'Separated', 'Service', 'Unmarried', 'Black', 'Female', 'Capital Gain <= 0.00', 'Capital Loss <= 0.00', 40, 'United-States'], [24, 'Private', 'High School grad', 'Separated', 'Blue-Collar', 'Husband', 'White', 'Male', 'Capital Gain <= 0.00', 'Capital Loss <= 0.00', 40, 'United-States'], [52, 'Self-emp-not-inc', 'Prof-School', 'Separated', 'Professional', 'Husband', 'White', 'Male', 'Capital Gain <= 0.00', 'Capital Loss <= 0.00', 70, 'United-States'], [34, 'Private', 'High School grad', 'Separated', 'Admin', 'Own-child', 'White', 'Female', 'Capital Gain <= 0.00', 'Capital Loss <= 0.00', 40, 'United-States'], [18, 'Private', 'Dropout', 'Separated', 'Sales', 'Own-child', 'White', 'Male', 'Capital Gain <= 0.00', 'Capital Loss <= 0.00', 10, 'United-States'], [34, 'Self-emp-not-inc', 'Bachelors', 'Separated', 'Sales', 'Husband', 'White', 'Male', 'Capital Gain <= 0.00', 'Capital Loss <= 0.00', 30, 'United-States'], [31, 'Private', 'Dropout', 'Separated', 'Other', 'Husband', 'White', 'Male', 'Capital Gain <= 0.00', 'Capital Loss <= 0.00', 40, 'United-States']], 'covered_false': [[38, 'Private', 'Masters', 'Separated', 'White-Collar', 'Not-in-family', 'White', 'Male', 'Capital Gain <= 0.00', 'Capital Loss <= 0.00', 45, 'United-States'], [30, 'Private', 'Doctorate', 'Separated', 'Professional', 'Husband', 'White', 'Male', 5178, 'Capital Loss <= 0.00', 75, 'United-States'], [52, 'Self-emp-not-inc', 'Prof-School', 'Separated', 'Professional', 'Husband', 'White', 'Male', 'Capital Gain <= 0.00', 'Capital Loss <= 0.00', 50, 'United-States'], [47, 'Private', 'Associates', 'Separated', 'Professional', 'Husband', 'White', 'Male', 'Capital Gain <= 0.00', 'Capital Loss <= 0.00', 40, 'United-States'], [55, 'Private', 'Bachelors', 'Separated', 'White-Collar', 'Husband', 'White', 'Male', 7298, 'Capital Loss <= 0.00', 60, 'United-States'], [52, 'Self-emp-inc', 'Masters', 'Separated', 'White-Collar', 'Husband', 'White', 'Male', 15024, 'Capital Loss <= 0.00', 60, 'United-States'], [43, 'State-gov', 'Doctorate', 'Separated', 'Professional', 'Not-in-family', 'White', 'Female', 'Capital Gain <= 0.00', 'Capital Loss <= 0.00', 40, 'United-States'], [64, 'Self-emp-inc', 'Doctorate', 'Separated', 'Professional', 'Husband', 'White', 'Male', 7688, 'Capital Loss <= 0.00', 60, 'British-Commonwealth'], [34, 'State-gov', 'Masters', 'Separated', 'Professional', 'Husband', 'White', 'Male', 7688, 'Capital Loss <= 0.00', 38, 'United-States'], [41, 'State-gov', 'Masters', 'Separated', 'Professional', 'Husband', 'White', 'Male', 7298, 'Capital Loss <= 0.00', 60, 'United-States']], 'covered_true': [[41, 'Private', 'High School grad', 'Separated', 'Admin', 'Unmarried', 'White', 'Female', 'Capital Gain <= 0.00', 'Capital Loss <= 0.00', 43, 'United-States'], [26, 'Local-gov', 'High School grad', 'Separated', 'Service', 'Own-child', 'Black', 'Female', 'Capital Gain <= 0.00', 'Capital Loss <= 0.00', 10, 'Latin-America'], [25, 'Private', 'High School grad', 'Separated', 'Sales', 'Not-in-family', 'White', 'Male', 'Capital Gain <= 0.00', 'Capital Loss <= 0.00', 35, 'United-States'], [56, 'Local-gov', 'High School grad', 'Separated', 'Service', 'Husband', 'White', 'Male', 'Capital Gain <= 0.00', 'Capital Loss <= 0.00', 40, 'United-States'], [55, '?', 'High School grad', 'Separated', '?', 'Not-in-family', 'White', 'Male', 'Capital Gain <= 0.00', 'Capital Loss <= 0.00', 20, 'United-States'], [53, 'Private', 'Bachelors', 'Separated', 'White-Collar', 'Husband', 'White', 'Male', 'Capital Gain <= 0.00', 'Capital Loss <= 0.00', 40, 'Euro_2'], [58, '?', 'Dropout', 'Separated', '?', 'Husband', 'White', 'Male', 'Capital Gain <= 0.00', 'Capital Loss <= 0.00', 24, 'United-States'], [28, 'Federal-gov', 'High School grad', 'Separated', 'White-Collar', 'Unmarried', 'White', 'Female', 'Capital Gain <= 0.00', 'Capital Loss <= 0.00', 70, 'Latin-America'], [34, 'Private', 'Bachelors', 'Separated', 'Sales', 'Not-in-family', 'White', 'Female', 'Capital Gain <= 0.00', 'Capital Loss <= 0.00', 35, 'United-States'], [36, 'Self-emp-not-inc', 'High School grad', 'Separated', 'Blue-Collar', 'Husband', 'White', 'Male', 'Capital Gain <= 0.00', 'Capital Loss <= 0.00', 60, 'United-States']], 'uncovered_false': [], 'uncovered_true': []}, {'covered': [[48, 'Private', 'High School grad', 'Separated', 'Service', 'Unmarried', 'White', 'Female', 'Capital Gain <= 0.00', 'Capital Loss <= 0.00', 25, 'United-States'], [22, '?', 'High School grad', 'Separated', '?', 'Unmarried', 'White', 'Female', 'Capital Gain <= 0.00', 'Capital Loss <= 0.00', 25, 'United-States'], [51, 'Private', 'High School grad', 'Separated', 'Admin', 'Wife', 'White', 'Female', 'Capital Gain <= 0.00', 'Capital Loss <= 0.00', 40, 'United-States'], [51, 'Private', 'High School grad', 'Separated', 'Professional', 'Unmarried', 'White', 'Female', 'Capital Gain <= 0.00', 'Capital Loss <= 0.00', 35, 'United-States'], [19, '?', 'High School grad', 'Separated', '?', 'Own-child', 'White', 'Female', 'Capital Gain <= 0.00', 'Capital Loss <= 0.00', 40, 'United-States'], [19, '?', 'High School grad', 'Separated', '?', 'Own-child', 'White', 'Female', 1055, 'Capital Loss <= 0.00', 12, 'United-States'], [38, '?', 'Dropout', 'Separated', '?', 'Not-in-family', 'White', 'Female', 'Capital Gain <= 0.00', 'Capital Loss <= 0.00', 40, 'United-States'], [36, 'Private', 'High School grad', 'Separated', 'Admin', 'Not-in-family', 'Black', 'Female', 'Capital Gain <= 0.00', 'Capital Loss <= 0.00', 40, 'United-States'], [27, 'Private', 'High School grad', 'Separated', 'Admin', 'Not-in-family', 'White', 'Female', 'Capital Gain <= 0.00', 'Capital Loss <= 0.00', 40, 'United-States'], [55, 'Self-emp-not-inc', 'High School grad', 'Separated', 'Service', 'Not-in-family', 'White', 'Female', 'Capital Gain <= 0.00', 'Capital Loss <= 0.00', 25, 'Latin-America']], 'covered_false': [[28, 'Private', 'Bachelors', 'Separated', 'White-Collar', 'Not-in-family', 'White', 'Female', 'Capital Gain <= 0.00', 1564, 50, 'United-States'], [43, 'State-gov', 'Doctorate', 'Separated', 'Professional', 'Not-in-family', 'White', 'Female', 'Capital Gain <= 0.00', 'Capital Loss <= 0.00', 40, 'United-States'], [21, 'Private', 'High School grad', 'Separated', 'Other', 'Not-in-family', 'Black', 'Female', 99999, 'Capital Loss <= 0.00', 40, 'United-States'], [45, 'Private', 'High School grad', 'Separated', 'Other', 'Not-in-family', 'White', 'Female', 'Capital Gain <= 0.00', 'Capital Loss <= 0.00', 50, 'United-States']], 'covered_true': [[27, 'Private', 'High School grad', 'Separated', 'Admin', 'Not-in-family', 'White', 'Female', 'Capital Gain <= 0.00', 'Capital Loss <= 0.00', 40, 'United-States'], [55, 'Self-emp-not-inc', 'High School grad', 'Separated', 'Service', 'Not-in-family', 'White', 'Female', 'Capital Gain <= 0.00', 'Capital Loss <= 0.00', 25, 'Latin-America'], [34, 'Private', 'High School grad', 'Separated', 'Admin', 'Unmarried', 'White', 'Female', 7443, 'Capital Loss <= 0.00', 35, 'United-States'], [30, 'Private', 'High School grad', 'Separated', 'Admin', 'Not-in-family', 'White', 'Female', 'Capital Gain <= 0.00', 'Capital Loss <= 0.00', 45, 'United-States'], [48, 'Private', 'High School grad', 'Separated', 'Service', 'Unmarried', 'White', 'Female', 'Capital Gain <= 0.00', 'Capital Loss <= 0.00', 25, 'United-States'], [24, 'Private', 'Dropout', 'Separated', 'Blue-Collar', 'Unmarried', 'White', 'Female', 'Capital Gain <= 0.00', 'Capital Loss <= 0.00', 40, 'United-States'], [27, 'Private', 'Masters', 'Separated', 'Blue-Collar', 'Not-in-family', 'White', 'Female', 'Capital Gain <= 0.00', 'Capital Loss <= 0.00', 40, 'United-States'], [20, '?', 'High School grad', 'Separated', '?', 'Own-child', 'White', 'Female', 'Capital Gain <= 0.00', 'Capital Loss <= 0.00', 12, 'United-States'], [23, 'Private', 'Associates', 'Separated', 'Service', 'Own-child', 'White', 'Female', 'Capital Gain <= 0.00', 'Capital Loss <= 0.00', 35, 'United-States'], [28, 'Federal-gov', 'High School grad', 'Separated', 'White-Collar', 'Unmarried', 'White', 'Female', 'Capital Gain <= 0.00', 'Capital Loss <= 0.00', 70, 'Latin-America']], 'uncovered_false': [], 'uncovered_true': []}], 'feature': [3, 7], 'instance': [53, 'Private', 'Associates', 'Separated', 'White-Collar', 'Unmarried', 'White', 'Female', 'Capital Gain <= 0.00', 'Capital Loss <= 0.00', 60, 'United-States'], 'mean': [0.9122807017543859, 0.9772727272727273], 'names': ['Marital Status = Separated', 'Sex = Female'], 'num_preds': 1000101, 'precision': [0.9122807017543859, 0.9772727272727273], 'prediction': 0}}\n"
     ]
    }
   ],
   "source": [
    "explain_instance = swagger_client.ExplainerApi(swagger_client.ApiClient(configuration,cookie=cookie_str))\n",
    "tries = 0\n",
    "try:\n",
    "    explanation = explain_instance.explain_seldon_deployment(namespace,model_name,explaindata={\"data\": {\"ndarray\": [[53,4,0,2,8,4,4,0,0,0,60,9]]}})\n",
    "    print(explanation)\n",
    "except ApiException as e:\n",
    "    print(e)\n",
    "    if tries > 5:\n",
    "        raise e\n",
    "    print(\"Retrying\")\n",
    "    tries = tries +1\n",
    "    time.sleep(5)"
   ]
  },
  {
   "cell_type": "markdown",
   "metadata": {
    "tags": []
   },
   "source": [
    "## Deploy Outier Detector"
   ]
  },
  {
   "cell_type": "code",
   "execution_count": 15,
   "metadata": {
    "tags": [
     "block:deploy_outlier",
     "prev:deploy_seldon"
    ]
   },
   "outputs": [],
   "source": [
    "configuration = get_swagger_configuration()\n",
    "outlier = swagger_client.OutlierDetectorApi(swagger_client.ApiClient(configuration))\n",
    "outlier_params = {\n",
    "\"params\": {\n",
    "    \"event_source\": \"io.seldon.serving.incomeod\",\n",
    "    \"event_type\": \"io.seldon.serving.inference.outlier\",\n",
    "    \"http_port\": \"8080\",\n",
    "    \"model_name\": \"adultod\",\n",
    "    \"protocol\": \"seldon.http\",\n",
    "    \"reply_url\": \"http://default-broker\",\n",
    "    \"storage_uri\": \"s3://seldon/sklearn/income/outlier\",\n",
    "    \"env_secret_ref\": \"seldon-init-container-secret\"\n",
    "  }\n",
    "}\n",
    "res = outlier.create_outlier_detector_seldon_deployment(model_name, namespace, outlier_detector=outlier_params)"
   ]
  },
  {
   "cell_type": "markdown",
   "metadata": {
    "tags": []
   },
   "source": [
    "## Deploy KNative Eventing Event Display"
   ]
  },
  {
   "cell_type": "code",
   "execution_count": 16,
   "metadata": {
    "tags": [
     "block:deploy_event_display",
     "prev:deploy_outlier"
    ]
   },
   "outputs": [
    {
     "data": {
      "text/plain": [
       "CompletedProcess(args='kubectl apply -f event_display.yaml', returncode=0)"
      ]
     },
     "execution_count": 16,
     "metadata": {},
     "output_type": "execute_result"
    }
   ],
   "source": [
    "event_display=f\"\"\"apiVersion: apps/v1\n",
    "kind: Deployment\n",
    "metadata:\n",
    "  name: event-display\n",
    "  namespace: {DEPLOY_NAMESPACE}          \n",
    "spec:\n",
    "  replicas: 1\n",
    "  selector:\n",
    "    matchLabels: &labels\n",
    "      app: event-display\n",
    "  template:\n",
    "    metadata:\n",
    "      labels: *labels\n",
    "    spec:\n",
    "      containers:\n",
    "        - name: helloworld-go\n",
    "          # Source code: https://github.com/knative/eventing-contrib/tree/master/cmd/event_display\n",
    "          image: gcr.io/knative-releases/knative.dev/eventing-contrib/cmd/event_display@sha256:f4628e97a836c77ed38bd3b6fd3d0b06de4d5e7db6704772fe674d48b20bd477\n",
    "---\n",
    "kind: Service\n",
    "apiVersion: v1\n",
    "metadata:\n",
    "  name: event-display\n",
    "  namespace: {DEPLOY_NAMESPACE}\n",
    "spec:\n",
    "  selector:\n",
    "    app: event-display\n",
    "  ports:\n",
    "    - protocol: TCP\n",
    "      port: 80\n",
    "      targetPort: 8080\n",
    "---\n",
    "apiVersion: eventing.knative.dev/v1alpha1\n",
    "kind: Trigger\n",
    "metadata:\n",
    "  name: income-outlier-display\n",
    "  namespace: {DEPLOY_NAMESPACE}\n",
    "spec:\n",
    "  broker: default\n",
    "  filter:\n",
    "    attributes:\n",
    "      type: io.seldon.serving.inference.outlier\n",
    "  subscriber:\n",
    "    ref:\n",
    "      apiVersion: v1\n",
    "      kind: Service\n",
    "      name: event-display\n",
    "\"\"\"\n",
    "with open(\"event_display.yaml\",\"w\") as f:\n",
    "    f.write(event_display)\n",
    "run(\"kubectl apply -f event_display.yaml\", shell=True)"
   ]
  },
  {
   "cell_type": "code",
   "execution_count": 17,
   "metadata": {
    "tags": []
   },
   "outputs": [
    {
     "data": {
      "text/plain": [
       "CompletedProcess(args='kubectl rollout status -n admin deploy/event-display -n admin', returncode=0)"
      ]
     },
     "execution_count": 17,
     "metadata": {},
     "output_type": "execute_result"
    }
   ],
   "source": [
    "run(f\"kubectl rollout status -n {DEPLOY_NAMESPACE} deploy/event-display -n {DEPLOY_NAMESPACE}\", shell=True)"
   ]
  },
  {
   "cell_type": "markdown",
   "metadata": {
    "tags": []
   },
   "source": [
    "## Test Outlier Detection"
   ]
  },
  {
   "cell_type": "code",
   "execution_count": 45,
   "metadata": {},
   "outputs": [],
   "source": [
    "def predict():\n",
    "    configuration = get_swagger_configuration()\n",
    "    cookie = authenticate()\n",
    "    cookie_str = f\"{KF_SESSION_COOKIE_NAME}={cookie}\"\n",
    "    predict_instance = swagger_client.PredictApi(swagger_client.ApiClient(configuration,cookie=cookie_str))\n",
    "    prediction = predict_instance.predict_seldon_deployment(model_name,namespace, prediction={\"data\": {\"ndarray\": [[3000,4,4,2,1,4,4,0,0,0,600,9]]}})\n",
    "    print(prediction)"
   ]
  },
  {
   "cell_type": "code",
   "execution_count": 42,
   "metadata": {
    "tags": []
   },
   "outputs": [
    {
     "name": "stdout",
     "output_type": "stream",
     "text": [
      "<RequestsCookieJar[<Cookie authservice_session=MTYwMTcxODE1MnxOd3dBTkZJM05saFNXRUUxUTFCVlUxTkdWelpPVGsxV1VEWkVURXRVTjFKRFZESlpORWxRU2xGVVUxQlpOMHBaUzAxU1VGbENURkU9fBn2PC5oubuZ8PaGDJgqkkvACTt2nP654oLkGFKwVJci for 34.91.115.100/>]>\n",
      "{'data': {'names': ['t:0', 't:1'], 'ndarray': [[0.92, 0.08]]}, 'meta': {}}\n",
      "Waiting for outlier logs, sleeping\n",
      "{'data': {'instance_score': None, 'feature_score': None, 'is_outlier': [1]}, 'meta': {'name': 'IForest', 'detector_type': 'offline', 'data_type': 'tabular'}}\n",
      "{'data': {'instance_score': None, 'feature_score': None, 'is_outlier': [1]}, 'meta': {'name': 'IForest', 'detector_type': 'offline', 'data_type': 'tabular'}}\n",
      "{'data': {'instance_score': None, 'feature_score': None, 'is_outlier': [0]}, 'meta': {'name': 'IForest', 'detector_type': 'offline', 'data_type': 'tabular'}}\n",
      "{'data': {'instance_score': None, 'feature_score': None, 'is_outlier': [0]}, 'meta': {'name': 'IForest', 'detector_type': 'offline', 'data_type': 'tabular'}}\n",
      "{'data': {'instance_score': None, 'feature_score': None, 'is_outlier': [0]}, 'meta': {'name': 'IForest', 'detector_type': 'offline', 'data_type': 'tabular'}}\n",
      "{'data': {'instance_score': None, 'feature_score': None, 'is_outlier': [1]}, 'meta': {'name': 'IForest', 'detector_type': 'offline', 'data_type': 'tabular'}}\n",
      "{'data': {'instance_score': None, 'feature_score': None, 'is_outlier': [1]}, 'meta': {'name': 'IForest', 'detector_type': 'offline', 'data_type': 'tabular'}}\n",
      "{'data': {'instance_score': None, 'feature_score': None, 'is_outlier': [1]}, 'meta': {'name': 'IForest', 'detector_type': 'offline', 'data_type': 'tabular'}}\n",
      "Outlier True\n"
     ]
    }
   ],
   "source": [
    "def get_outlier_event_display_logs():\n",
    "    cmd=f\"kubectl logs $(kubectl get pod -l app=event-display -o jsonpath='{{.items[0].metadata.name}}' -n {DEPLOY_NAMESPACE}) -n {DEPLOY_NAMESPACE}\"\n",
    "    ret = Popen(cmd, shell=True,stdout=PIPE)\n",
    "    res = ret.stdout.read().decode(\"utf-8\").split(\"\\n\")\n",
    "    data= []\n",
    "    for i in range(0,len(res)):\n",
    "        if res[i] == 'Data,':\n",
    "            j = json.loads(json.loads(res[i+1]))\n",
    "            print(j)\n",
    "            if \"is_outlier\"in j[\"data\"].keys():\n",
    "                data.append(j)\n",
    "    if len(data) > 0:\n",
    "        return data[-1]\n",
    "    else:\n",
    "        return None\n",
    "j = None\n",
    "while j is None:\n",
    "    predict()\n",
    "    print(\"Waiting for outlier logs, sleeping\")\n",
    "    time.sleep(2)\n",
    "    j = get_outlier_event_display_logs()\n",
    "    \n",
    "print(j)\n",
    "print(\"Outlier\",j[\"data\"][\"is_outlier\"]==[1])"
   ]
  },
  {
   "cell_type": "markdown",
   "metadata": {
    "tags": []
   },
   "source": [
    "## Clean Up Resources"
   ]
  },
  {
   "cell_type": "code",
   "execution_count": 46,
   "metadata": {
    "tags": [
     "skip"
    ]
   },
   "outputs": [
    {
     "data": {
      "text/plain": [
       "<urllib3.response.HTTPResponse at 0x7fa51069b668>"
      ]
     },
     "execution_count": 46,
     "metadata": {},
     "output_type": "execute_result"
    }
   ],
   "source": [
    "outlier.delete_outlier_detector_seldon_deployment(model_name, namespace, _preload_content=False)\n",
    "dep_instance.delete_seldon_deployment(model_name, namespace, _preload_content=False)"
   ]
  },
  {
   "cell_type": "code",
   "execution_count": 47,
   "metadata": {
    "tags": [
     "skip"
    ]
   },
   "outputs": [
    {
     "data": {
      "text/plain": [
       "CompletedProcess(args='kubectl delete trigger income-outlier-display -n admin', returncode=1)"
      ]
     },
     "execution_count": 47,
     "metadata": {},
     "output_type": "execute_result"
    }
   ],
   "source": [
    "run(f\"kubectl delete sa  minio-sa -n {DEPLOY_NAMESPACE}\", shell=True)\n",
    "run(f\"kubectl delete secret seldon-init-container-secret -n {DEPLOY_NAMESPACE}\", shell=True)\n",
    "run(f\"kubectl delete deployment event-display -n {DEPLOY_NAMESPACE}\", shell=True)\n",
    "run(f\"kubectl delete svc event-display -n {DEPLOY_NAMESPACE}\", shell=True)\n",
    "run(f\"kubectl delete trigger income-outlier-display -n {DEPLOY_NAMESPACE}\", shell=True)"
   ]
  },
  {
   "cell_type": "code",
   "execution_count": null,
   "metadata": {
    "tags": []
   },
   "outputs": [],
   "source": []
  }
 ],
 "metadata": {
  "kernelspec": {
   "display_name": "Python 3",
   "language": "python",
   "name": "python3"
  },
  "kubeflow_notebook": {
   "docker_image": "seldonio/jupyter-lab-alibi-kale:0.17",
   "experiment": {
    "id": "new",
    "name": "seldon-e2e-adult"
   },
   "experiment_name": "seldon-e2e-adult",
   "katib_metadata": {
    "algorithm": {
     "algorithmName": "grid"
    },
    "maxFailedTrialCount": 3,
    "maxTrialCount": 12,
    "objective": {
     "objectiveMetricName": "",
     "type": "minimize"
    },
    "parallelTrialCount": 3,
    "parameters": []
   },
   "katib_run": false,
   "pipeline_description": "Seldon e2e adult",
   "pipeline_name": "seldon-e2e-adult",
   "volumes": []
  },
  "language_info": {
   "codemirror_mode": {
    "name": "ipython",
    "version": 3
   },
   "file_extension": ".py",
   "mimetype": "text/x-python",
   "name": "python",
   "nbconvert_exporter": "python",
   "pygments_lexer": "ipython3",
   "version": "3.6.8"
  },
  "varInspector": {
   "cols": {
    "lenName": 16,
    "lenType": 16,
    "lenVar": 40
   },
   "kernels_config": {
    "python": {
     "delete_cmd_postfix": "",
     "delete_cmd_prefix": "del ",
     "library": "var_list.py",
     "varRefreshCmd": "print(var_dic_list())"
    },
    "r": {
     "delete_cmd_postfix": ") ",
     "delete_cmd_prefix": "rm(",
     "library": "var_list.r",
     "varRefreshCmd": "cat(var_dic_list()) "
    }
   },
   "types_to_exclude": [
    "module",
    "function",
    "builtin_function_or_method",
    "instance",
    "_Feature"
   ],
   "window_display": false
  }
 },
 "nbformat": 4,
 "nbformat_minor": 4
}
