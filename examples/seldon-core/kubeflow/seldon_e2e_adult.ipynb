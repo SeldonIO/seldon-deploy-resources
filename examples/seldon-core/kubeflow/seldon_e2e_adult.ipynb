{
 "cells": [
  {
   "cell_type": "markdown",
   "metadata": {
    "tags": []
   },
   "source": [
    "# End to End Machine Learning Pipeline for Income Prediction with Seldon Deploy\n",
    "\n",
    "We use [demographic features from the 1996 US census](https://archive.ics.uci.edu/ml/datasets/census+income) to build an end to end machine learning pipeline. The pipeline is also annotated so it can be run as a [Kubeflow Pipeline](https://www.kubeflow.org/docs/pipelines/overview/pipelines-overview/) using the [Kale](https://github.com/kubeflow-kale/kale) pipeline generator.\n",
    "\n",
    "The notebook/pipeline stages are:\n",
    "\n",
    " 1. Setup \n",
    "   * Imports\n",
    "   * pipeline-parameters\n",
    "   * minio client test\n",
    " 1. Train a simple sklearn model and push to minio\n",
    " 1. Prepare an Anchors explainer for model and push to minio\n",
    " 1. Test Explainer\n",
    " 1. Train an isolation forest outlier detector for model and push to minio\n",
    " 1. Deploy a Seldon model and test using the Seldon Deploy Enterprise API\n",
    " 1. Deploy an outlier detector with the Seldon Deploy Enterprise API\n",
    " 1. Test the outlier detector\n",
    "\n"
   ]
  },
  {
   "cell_type": "code",
   "execution_count": 1,
   "metadata": {
    "tags": [
     "imports"
    ]
   },
   "outputs": [],
   "source": [
    "import numpy as np\n",
    "from sklearn.ensemble import RandomForestClassifier\n",
    "from sklearn.compose import ColumnTransformer\n",
    "from sklearn.pipeline import Pipeline\n",
    "from sklearn.impute import SimpleImputer\n",
    "from sklearn.metrics import accuracy_score\n",
    "from sklearn.preprocessing import StandardScaler, OneHotEncoder\n",
    "from alibi.explainers import AnchorTabular\n",
    "from alibi.datasets import fetch_adult\n",
    "from minio import Minio\n",
    "from minio.error import ResponseError\n",
    "from joblib import dump, load\n",
    "import dill\n",
    "import time\n",
    "import json\n",
    "from subprocess import run, Popen, PIPE\n",
    "from alibi_detect.utils.data import create_outlier_batch\n",
    "import swagger_client\n",
    "from swagger_client.rest import ApiException\n",
    "import yaml\n",
    "import json\n",
    "import urllib3\n",
    "urllib3.disable_warnings()"
   ]
  },
  {
   "cell_type": "code",
   "execution_count": 2,
   "metadata": {
    "tags": [
     "pipeline-parameters"
    ]
   },
   "outputs": [],
   "source": [
    "MINIO_HOST=\"minio-service.kubeflow:9000\"\n",
    "MINIO_ACCESS_KEY=\"minio\"\n",
    "MINIO_SECRET_KEY=\"minio123\"\n",
    "MINIO_MODEL_BUCKET=\"seldon\"\n",
    "INCOME_MODEL_PATH=\"sklearn/income/model\"\n",
    "EXPLAINER_MODEL_PATH=\"sklearn/income/explainer\"\n",
    "OUTLIER_MODEL_PATH=\"sklearn/income/outlier\"\n",
    "DEPLOY_NAMESPACE=\"admin\"\n",
    "DEPLOY_SERVER = \"https://x.x.x.x/seldon-deploy/\"\n",
    "DEPLOY_USER = \"admin@kubeflow.org\"\n",
    "DEPLOY_PASSWORD = \"12341234\""
   ]
  },
  {
   "cell_type": "code",
   "execution_count": 3,
   "metadata": {
    "tags": [
     "functions"
    ]
   },
   "outputs": [],
   "source": [
    "def get_minio():\n",
    "    return Minio(MINIO_HOST,\n",
    "                    access_key=MINIO_ACCESS_KEY,\n",
    "                    secret_key=MINIO_SECRET_KEY,\n",
    "                    secure=False)"
   ]
  },
  {
   "cell_type": "code",
   "execution_count": 4,
   "metadata": {
    "tags": []
   },
   "outputs": [],
   "source": [
    "def get_swagger_configuration():\n",
    "    configuration = swagger_client.Configuration()\n",
    "    configuration.host = 'http://seldon-deploy.seldon-system/seldon-deploy/api/v1alpha1'\n",
    "    return configuration"
   ]
  },
  {
   "cell_type": "code",
   "execution_count": 5,
   "metadata": {
    "tags": []
   },
   "outputs": [],
   "source": [
    "import requests\n",
    "\n",
    "from urllib.parse import urlparse\n",
    "\n",
    "KF_SESSION_COOKIE_NAME = \"authservice_session\"\n",
    "\n",
    "\n",
    "class SessionAuthenticator:\n",
    "    \"\"\"\n",
    "    Returns the cookie token.\n",
    "    \"\"\"\n",
    "\n",
    "    def __init__(self, server: str):\n",
    "        self._server = server\n",
    "\n",
    "        url = urlparse(server)\n",
    "        self._host = f\"{url.scheme}://{url.netloc}\"\n",
    "\n",
    "    def authenticate(self, user: str, password: str) -> str:\n",
    "        auth_path = self._get_auth_path()\n",
    "        success_path = self._submit_auth(auth_path, user, password)\n",
    "        session_cookie = self._get_session_cookie(success_path)\n",
    "        return session_cookie\n",
    "\n",
    "    def _get_auth_path(self) -> str:\n",
    "        # Send unauthenticated request\n",
    "        res = requests.get(self._server, allow_redirects=False, verify=False)\n",
    "\n",
    "        # Follow the 302 redirect\n",
    "        oidc_path = res.headers[\"Location\"]\n",
    "        oidc_endpoint = f\"{self._host}{oidc_path}\"\n",
    "        res = requests.get(oidc_endpoint, allow_redirects=False, verify=False)\n",
    "\n",
    "        return res.headers[\"Location\"]\n",
    "\n",
    "    def _submit_auth(self, auth_path: str, user: str, password: str) -> str:\n",
    "        auth_endpoint = f\"{self._host}{auth_path}\"\n",
    "        auth_payload = {\"login\": user, \"password\": password}\n",
    "        res = requests.post(auth_endpoint, auth_payload, allow_redirects=False, verify=False)\n",
    "        \n",
    "        login_path = res.headers[\"Location\"]\n",
    "        login_endpoint = f\"{self._host}{login_path}\"\n",
    "        res = requests.get(login_endpoint, allow_redirects=False, verify=False)\n",
    "\n",
    "        return res.headers[\"Location\"]\n",
    "\n",
    "    def _get_session_cookie(self, success_path: str) -> str:\n",
    "        success_endpoint = f\"{self._host}{success_path}\"\n",
    "        res = requests.get(success_endpoint, allow_redirects=False, verify=False)\n",
    "        print(res.cookies)\n",
    "        return res.cookies[KF_SESSION_COOKIE_NAME]\n",
    "\n",
    "def authenticate():\n",
    "    authenticator = SessionAuthenticator(DEPLOY_SERVER)\n",
    "\n",
    "    cookie = authenticator.authenticate(DEPLOY_USER, DEPLOY_PASSWORD)\n",
    "    return cookie\n"
   ]
  },
  {
   "cell_type": "code",
   "execution_count": 6,
   "metadata": {
    "tags": [
     "block:setup"
    ]
   },
   "outputs": [
    {
     "name": "stdout",
     "output_type": "stream",
     "text": [
      "mlpipeline 2020-11-24 08:48:44.210000+00:00\n",
      "seldon 2020-11-25 14:29:28.707000+00:00\n"
     ]
    }
   ],
   "source": [
    "minioClient = get_minio()\n",
    "buckets = minioClient.list_buckets()\n",
    "for bucket in buckets:\n",
    "    print(bucket.name, bucket.creation_date)"
   ]
  },
  {
   "cell_type": "code",
   "execution_count": 7,
   "metadata": {
    "tags": []
   },
   "outputs": [],
   "source": [
    "if not minioClient.bucket_exists(MINIO_MODEL_BUCKET):\n",
    "    minioClient.make_bucket(MINIO_MODEL_BUCKET)"
   ]
  },
  {
   "cell_type": "markdown",
   "metadata": {
    "tags": []
   },
   "source": [
    "## Train Model"
   ]
  },
  {
   "cell_type": "code",
   "execution_count": 8,
   "metadata": {
    "tags": [
     "block:build_model",
     "prev:setup"
    ]
   },
   "outputs": [
    {
     "data": {
      "text/plain": [
       "dict_keys(['data', 'target', 'feature_names', 'target_names', 'category_map'])"
      ]
     },
     "execution_count": 8,
     "metadata": {},
     "output_type": "execute_result"
    }
   ],
   "source": [
    "adult = fetch_adult()\n",
    "adult.keys()"
   ]
  },
  {
   "cell_type": "code",
   "execution_count": 9,
   "metadata": {
    "tags": [
     "block:"
    ]
   },
   "outputs": [],
   "source": [
    "data = adult.data\n",
    "target = adult.target\n",
    "feature_names = adult.feature_names\n",
    "category_map = adult.category_map"
   ]
  },
  {
   "cell_type": "markdown",
   "metadata": {
    "tags": []
   },
   "source": [
    "Note that for your own datasets you can use our utility function [gen_category_map](../api/alibi.utils.data.rst) to create the category map:"
   ]
  },
  {
   "cell_type": "code",
   "execution_count": 10,
   "metadata": {
    "tags": []
   },
   "outputs": [],
   "source": [
    "from alibi.utils.data import gen_category_map"
   ]
  },
  {
   "cell_type": "markdown",
   "metadata": {
    "tags": []
   },
   "source": [
    "Define shuffled training and test set"
   ]
  },
  {
   "cell_type": "code",
   "execution_count": 11,
   "metadata": {
    "tags": []
   },
   "outputs": [],
   "source": [
    "np.random.seed(0)\n",
    "data_perm = np.random.permutation(np.c_[data, target])\n",
    "data = data_perm[:,:-1]\n",
    "target = data_perm[:,-1]"
   ]
  },
  {
   "cell_type": "code",
   "execution_count": 12,
   "metadata": {
    "tags": []
   },
   "outputs": [],
   "source": [
    "idx = 30000\n",
    "X_train,Y_train = data[:idx,:], target[:idx]\n",
    "X_test, Y_test = data[idx+1:,:], target[idx+1:]"
   ]
  },
  {
   "cell_type": "markdown",
   "metadata": {
    "tags": []
   },
   "source": [
    "### Create feature transformation pipeline\n",
    "Create feature pre-processor. Needs to have 'fit' and 'transform' methods. Different types of pre-processing can be applied to all or part of the features. In the example below we will standardize ordinal features and apply one-hot-encoding to categorical features.\n",
    "\n",
    "Ordinal features:"
   ]
  },
  {
   "cell_type": "code",
   "execution_count": 13,
   "metadata": {
    "tags": []
   },
   "outputs": [],
   "source": [
    "ordinal_features = [x for x in range(len(feature_names)) if x not in list(category_map.keys())]\n",
    "ordinal_transformer = Pipeline(steps=[('imputer', SimpleImputer(strategy='median')),\n",
    "                                      ('scaler', StandardScaler())])"
   ]
  },
  {
   "cell_type": "markdown",
   "metadata": {
    "tags": []
   },
   "source": [
    "Categorical features:"
   ]
  },
  {
   "cell_type": "code",
   "execution_count": 14,
   "metadata": {
    "tags": []
   },
   "outputs": [],
   "source": [
    "categorical_features = list(category_map.keys())\n",
    "categorical_transformer = Pipeline(steps=[('imputer', SimpleImputer(strategy='median')),\n",
    "                                          ('onehot', OneHotEncoder(handle_unknown='ignore'))])"
   ]
  },
  {
   "cell_type": "markdown",
   "metadata": {
    "tags": []
   },
   "source": [
    "Combine and fit:"
   ]
  },
  {
   "cell_type": "code",
   "execution_count": 15,
   "metadata": {
    "tags": []
   },
   "outputs": [],
   "source": [
    "preprocessor = ColumnTransformer(transformers=[('num', ordinal_transformer, ordinal_features),\n",
    "                                               ('cat', categorical_transformer, categorical_features)])"
   ]
  },
  {
   "cell_type": "markdown",
   "metadata": {
    "tags": []
   },
   "source": [
    "### Train Random Forest model\n",
    "\n",
    "Fit on pre-processed (imputing, OHE, standardizing) data."
   ]
  },
  {
   "cell_type": "code",
   "execution_count": 16,
   "metadata": {
    "tags": []
   },
   "outputs": [],
   "source": [
    "np.random.seed(0)\n",
    "clf = RandomForestClassifier(n_estimators=50)"
   ]
  },
  {
   "cell_type": "code",
   "execution_count": 17,
   "metadata": {
    "tags": []
   },
   "outputs": [
    {
     "data": {
      "text/plain": [
       "Pipeline(steps=[('preprocess',\n",
       "                 ColumnTransformer(transformers=[('num',\n",
       "                                                  Pipeline(steps=[('imputer',\n",
       "                                                                   SimpleImputer(strategy='median')),\n",
       "                                                                  ('scaler',\n",
       "                                                                   StandardScaler())]),\n",
       "                                                  [0, 8, 9, 10]),\n",
       "                                                 ('cat',\n",
       "                                                  Pipeline(steps=[('imputer',\n",
       "                                                                   SimpleImputer(strategy='median')),\n",
       "                                                                  ('onehot',\n",
       "                                                                   OneHotEncoder(handle_unknown='ignore'))]),\n",
       "                                                  [1, 2, 3, 4, 5, 6, 7, 11])])),\n",
       "                ('model', RandomForestClassifier(n_estimators=50))])"
      ]
     },
     "execution_count": 17,
     "metadata": {},
     "output_type": "execute_result"
    }
   ],
   "source": [
    "model=Pipeline(steps=[(\"preprocess\",preprocessor),(\"model\",clf)])\n",
    "model.fit(X_train,Y_train)"
   ]
  },
  {
   "cell_type": "markdown",
   "metadata": {
    "tags": []
   },
   "source": [
    "Define predict function"
   ]
  },
  {
   "cell_type": "code",
   "execution_count": 18,
   "metadata": {
    "tags": [
     "block:"
    ]
   },
   "outputs": [],
   "source": [
    "def predict_fn(x):\n",
    "    return model.predict(x)"
   ]
  },
  {
   "cell_type": "code",
   "execution_count": 19,
   "metadata": {
    "tags": [
     "block:",
     "prev:build_model"
    ]
   },
   "outputs": [
    {
     "name": "stdout",
     "output_type": "stream",
     "text": [
      "Train accuracy:  0.9655333333333334\n",
      "Test accuracy:  0.855859375\n"
     ]
    }
   ],
   "source": [
    "#predict_fn = lambda x: clf.predict(preprocessor.transform(x))\n",
    "print('Train accuracy: ', accuracy_score(Y_train, predict_fn(X_train)))\n",
    "print('Test accuracy: ', accuracy_score(Y_test, predict_fn(X_test)))"
   ]
  },
  {
   "cell_type": "code",
   "execution_count": 20,
   "metadata": {
    "tags": []
   },
   "outputs": [
    {
     "data": {
      "text/plain": [
       "['model.joblib']"
      ]
     },
     "execution_count": 20,
     "metadata": {},
     "output_type": "execute_result"
    }
   ],
   "source": [
    "dump(model, 'model.joblib') "
   ]
  },
  {
   "cell_type": "code",
   "execution_count": 21,
   "metadata": {
    "tags": []
   },
   "outputs": [
    {
     "name": "stdout",
     "output_type": "stream",
     "text": [
      "('1f63c9adf7f8ae03a3e363e910b5a83a-7', None)\n"
     ]
    }
   ],
   "source": [
    "print(get_minio().fput_object(MINIO_MODEL_BUCKET, f\"{INCOME_MODEL_PATH}/model.joblib\", 'model.joblib'))"
   ]
  },
  {
   "cell_type": "markdown",
   "metadata": {
    "tags": []
   },
   "source": [
    "## Train Explainer"
   ]
  },
  {
   "cell_type": "code",
   "execution_count": 22,
   "metadata": {
    "tags": [
     "block:train_explainer",
     "prev:build_model"
    ]
   },
   "outputs": [],
   "source": [
    "model.predict(X_train)\n",
    "explainer = AnchorTabular(predict_fn, feature_names, categorical_names=category_map)"
   ]
  },
  {
   "cell_type": "markdown",
   "metadata": {
    "tags": []
   },
   "source": [
    "Discretize the ordinal features into quartiles"
   ]
  },
  {
   "cell_type": "code",
   "execution_count": 23,
   "metadata": {
    "tags": []
   },
   "outputs": [
    {
     "data": {
      "text/plain": [
       "AnchorTabular(meta={'name': 'AnchorTabular', 'type': ['blackbox'], 'explanations': ['local'], 'params': {'seed': None, 'disc_perc': [25, 50, 75]}})"
      ]
     },
     "execution_count": 23,
     "metadata": {},
     "output_type": "execute_result"
    }
   ],
   "source": [
    "explainer.fit(X_train, disc_perc=[25, 50, 75])"
   ]
  },
  {
   "cell_type": "code",
   "execution_count": 24,
   "metadata": {
    "tags": []
   },
   "outputs": [
    {
     "name": "stdout",
     "output_type": "stream",
     "text": [
      "('2800a0f978a6b88af3d86cdb91fa4eac-2', None)\n"
     ]
    }
   ],
   "source": [
    "with open(\"explainer.dill\", \"wb\") as dill_file:\n",
    "    dill.dump(explainer, dill_file)    \n",
    "    dill_file.close()\n",
    "print(get_minio().fput_object(MINIO_MODEL_BUCKET, f\"{EXPLAINER_MODEL_PATH}/explainer.dill\", 'explainer.dill'))"
   ]
  },
  {
   "cell_type": "markdown",
   "metadata": {
    "tags": []
   },
   "source": [
    "## Get Explanation\n",
    "\n",
    "Below, we get an anchor for the prediction of the first observation in the test set. An anchor is a sufficient condition - that is, when the anchor holds, the prediction should be the same as the prediction for this instance."
   ]
  },
  {
   "cell_type": "code",
   "execution_count": 28,
   "metadata": {
    "tags": [
     "block:explain",
     "prev:train_explainer"
    ]
   },
   "outputs": [
    {
     "name": "stdout",
     "output_type": "stream",
     "text": [
      "Prediction:  <=50K\n"
     ]
    }
   ],
   "source": [
    "model.predict(X_train)\n",
    "idx = 0\n",
    "class_names = adult.target_names\n",
    "print('Prediction: ', class_names[explainer.predictor(X_test[idx].reshape(1, -1))[0]])"
   ]
  },
  {
   "cell_type": "markdown",
   "metadata": {
    "tags": []
   },
   "source": [
    "We set the precision threshold to 0.95. This means that predictions on observations where the anchor holds will be the same as the prediction on the explained instance at least 95% of the time."
   ]
  },
  {
   "cell_type": "code",
   "execution_count": 29,
   "metadata": {
    "tags": []
   },
   "outputs": [
    {
     "name": "stdout",
     "output_type": "stream",
     "text": [
      "Anchor: Marital Status = Separated AND Relationship = Unmarried AND Capital Gain <= 0.00\n",
      "Precision: 0.96\n",
      "Coverage: 0.18\n"
     ]
    }
   ],
   "source": [
    "explanation = explainer.explain(X_test[idx], threshold=0.95)\n",
    "print('Anchor: %s' % (' AND '.join(explanation.anchor)))\n",
    "print('Precision: %.2f' % explanation.precision)\n",
    "print('Coverage: %.2f' % explanation.coverage)"
   ]
  },
  {
   "cell_type": "markdown",
   "metadata": {
    "tags": []
   },
   "source": [
    "## Train Outlier Detector"
   ]
  },
  {
   "cell_type": "code",
   "execution_count": 30,
   "metadata": {
    "tags": [
     "block:build_outlier",
     "prev:build_model"
    ]
   },
   "outputs": [],
   "source": [
    "from alibi_detect.od import IForest\n",
    "\n",
    "od = IForest(\n",
    "    threshold=0.,\n",
    "    n_estimators=200,\n",
    ")\n"
   ]
  },
  {
   "cell_type": "code",
   "execution_count": 31,
   "metadata": {
    "tags": []
   },
   "outputs": [],
   "source": [
    "od.fit(X_train)"
   ]
  },
  {
   "cell_type": "code",
   "execution_count": 32,
   "metadata": {
    "tags": []
   },
   "outputs": [
    {
     "name": "stdout",
     "output_type": "stream",
     "text": [
      "5.0% outliers\n"
     ]
    }
   ],
   "source": [
    "np.random.seed(0)\n",
    "perc_outlier = 5\n",
    "threshold_batch = create_outlier_batch(X_train, Y_train, n_samples=1000, perc_outlier=perc_outlier)\n",
    "X_threshold, y_threshold = threshold_batch.data.astype('float'), threshold_batch.target\n",
    "#X_threshold = (X_threshold - mean) / stdev\n",
    "print('{}% outliers'.format(100 * y_threshold.mean()))"
   ]
  },
  {
   "cell_type": "code",
   "execution_count": 33,
   "metadata": {
    "tags": []
   },
   "outputs": [
    {
     "name": "stdout",
     "output_type": "stream",
     "text": [
      "New threshold: 0.04146225277142258\n"
     ]
    }
   ],
   "source": [
    "od.infer_threshold(X_threshold, threshold_perc=100-perc_outlier)\n",
    "print('New threshold: {}'.format(od.threshold))\n",
    "threshold = od.threshold"
   ]
  },
  {
   "cell_type": "code",
   "execution_count": 34,
   "metadata": {
    "tags": []
   },
   "outputs": [],
   "source": [
    "X_outlier = [[300,  4,  4,  2,  1,  4,  4,  0,  0,  0, 600,  9]]"
   ]
  },
  {
   "cell_type": "code",
   "execution_count": 35,
   "metadata": {
    "tags": []
   },
   "outputs": [
    {
     "data": {
      "text/plain": [
       "{'data': {'instance_score': array([0.06362659]),\n",
       "  'feature_score': None,\n",
       "  'is_outlier': array([1])},\n",
       " 'meta': {'name': 'IForest',\n",
       "  'detector_type': 'offline',\n",
       "  'data_type': 'tabular'}}"
      ]
     },
     "execution_count": 35,
     "metadata": {},
     "output_type": "execute_result"
    }
   ],
   "source": [
    "od.predict(\n",
    "    X_outlier\n",
    ")"
   ]
  },
  {
   "cell_type": "code",
   "execution_count": 36,
   "metadata": {
    "tags": []
   },
   "outputs": [
    {
     "name": "stderr",
     "output_type": "stream",
     "text": [
      "WARNING: Logging before flag parsing goes to stderr.\n",
      "W1125 19:25:18.982363 140716960044864 saving.py:73] Directory ifoutlier does not exist and is now created.\n"
     ]
    },
    {
     "name": "stdout",
     "output_type": "stream",
     "text": [
      "meta.pickle\n",
      "('3125d3672c65f418bbc62b18c19442d1-1', None)\n",
      "IForest.pickle\n",
      "('74518b501e2c37f3bec392b95163c239-1', None)\n"
     ]
    }
   ],
   "source": [
    "from alibi_detect.utils.saving import save_detector, load_detector\n",
    "from os import listdir\n",
    "from os.path import isfile, join\n",
    "\n",
    "filepath=\"ifoutlier\"\n",
    "save_detector(od, filepath) \n",
    "onlyfiles = [f for f in listdir(filepath) if isfile(join(filepath, f))]\n",
    "for filename in onlyfiles:\n",
    "    print(filename)\n",
    "    print(get_minio().fput_object(MINIO_MODEL_BUCKET, f\"{OUTLIER_MODEL_PATH}/{filename}\", join(filepath, filename)))"
   ]
  },
  {
   "cell_type": "markdown",
   "metadata": {
    "tags": []
   },
   "source": [
    "## Deploy Seldon Core Model with API"
   ]
  },
  {
   "cell_type": "code",
   "execution_count": 55,
   "metadata": {},
   "outputs": [
    {
     "data": {
      "text/plain": [
       "CompletedProcess(args='kubectl label namespace admin istio-injection=disabled --overwrite', returncode=1)"
      ]
     },
     "execution_count": 55,
     "metadata": {},
     "output_type": "execute_result"
    }
   ],
   "source": [
    "run(\"kubectl label namespace admin istio-injection=disabled --overwrite\", shell=True)"
   ]
  },
  {
   "cell_type": "code",
   "execution_count": 75,
   "metadata": {
    "tags": [
     "block:deploy_seldon",
     "prev:train_explainer"
    ]
   },
   "outputs": [
    {
     "data": {
      "text/plain": [
       "CompletedProcess(args='cat secret.yaml | kubectl apply -f -', returncode=0)"
      ]
     },
     "execution_count": 75,
     "metadata": {},
     "output_type": "execute_result"
    }
   ],
   "source": [
    "secret = f\"\"\"apiVersion: v1\n",
    "kind: Secret\n",
    "metadata:\n",
    "  name: seldon-init-container-secret\n",
    "  namespace: seldon-logs\n",
    "type: Opaque\n",
    "stringData:\n",
    "  AWS_ACCESS_KEY_ID: {MINIO_ACCESS_KEY}\n",
    "  AWS_SECRET_ACCESS_KEY: {MINIO_SECRET_KEY}\n",
    "  AWS_ENDPOINT_URL: http://{MINIO_HOST}\n",
    "  USE_SSL: \"false\"\n",
    "\"\"\"\n",
    "with open(\"secret.yaml\",\"w\") as f:\n",
    "    f.write(secret)\n",
    "run(\"cat secret.yaml | kubectl apply -f -\", shell=True)"
   ]
  },
  {
   "cell_type": "code",
   "execution_count": 78,
   "metadata": {},
   "outputs": [
    {
     "data": {
      "text/plain": [
       "CompletedProcess(args='kubectl apply -f sa.yaml', returncode=0)"
      ]
     },
     "execution_count": 78,
     "metadata": {},
     "output_type": "execute_result"
    }
   ],
   "source": [
    "sa = f\"\"\"apiVersion: v1\n",
    "kind: ServiceAccount\n",
    "metadata:\n",
    "  name: minio-sa\n",
    "  namespace: seldon-logs\n",
    "secrets:\n",
    "  - name: seldon-init-container-secret\n",
    "\"\"\"\n",
    "with open(\"sa.yaml\",\"w\") as f:\n",
    "    f.write(sa)\n",
    "run(\"kubectl apply -f sa.yaml\", shell=True)"
   ]
  },
  {
   "cell_type": "code",
   "execution_count": 79,
   "metadata": {},
   "outputs": [
    {
     "data": {
      "text/plain": [
       "CompletedProcess(args='cat secret.yaml | kubectl apply -f -', returncode=0)"
      ]
     },
     "execution_count": 79,
     "metadata": {},
     "output_type": "execute_result"
    }
   ],
   "source": [
    "secret = f\"\"\"apiVersion: v1\n",
    "kind: Secret\n",
    "metadata:\n",
    "  name: seldon-init-container-secret\n",
    "  namespace: {DEPLOY_NAMESPACE}\n",
    "type: Opaque\n",
    "stringData:\n",
    "  AWS_ACCESS_KEY_ID: {MINIO_ACCESS_KEY}\n",
    "  AWS_SECRET_ACCESS_KEY: {MINIO_SECRET_KEY}\n",
    "  AWS_ENDPOINT_URL: http://{MINIO_HOST}\n",
    "  USE_SSL: \"false\"\n",
    "\"\"\"\n",
    "with open(\"secret.yaml\",\"w\") as f:\n",
    "    f.write(secret)\n",
    "run(\"cat secret.yaml | kubectl apply -f -\", shell=True)"
   ]
  },
  {
   "cell_type": "code",
   "execution_count": 81,
   "metadata": {
    "tags": []
   },
   "outputs": [
    {
     "data": {
      "text/plain": [
       "CompletedProcess(args='kubectl apply -f sa.yaml', returncode=0)"
      ]
     },
     "execution_count": 81,
     "metadata": {},
     "output_type": "execute_result"
    }
   ],
   "source": [
    "sa = f\"\"\"apiVersion: v1\n",
    "kind: ServiceAccount\n",
    "metadata:\n",
    "  name: minio-sa\n",
    "  namespace: {DEPLOY_NAMESPACE}\n",
    "secrets:\n",
    "  - name: seldon-init-container-secret\n",
    "\"\"\"\n",
    "with open(\"sa.yaml\",\"w\") as f:\n",
    "    f.write(sa)\n",
    "run(\"kubectl apply -f sa.yaml\", shell=True)"
   ]
  },
  {
   "cell_type": "code",
   "execution_count": 82,
   "metadata": {
    "tags": []
   },
   "outputs": [],
   "source": [
    "configuration = get_swagger_configuration()\n",
    "# create an instance of the API class\n",
    "dep_instance = swagger_client.SeldonDeploymentsApi(swagger_client.ApiClient(configuration))\n",
    "namespace = 'admin' # str | Namespace provides a logical grouping of resources"
   ]
  },
  {
   "cell_type": "markdown",
   "metadata": {
    "tags": []
   },
   "source": [
    "Create the Seldon deployment with the Deploy API"
   ]
  },
  {
   "cell_type": "code",
   "execution_count": 95,
   "metadata": {
    "tags": []
   },
   "outputs": [],
   "source": [
    "from swagger_client.models.seldon_deployment import SeldonDeployment\n",
    "from swagger_client.models.seldon_deployment_spec import SeldonDeploymentSpec\n",
    "from swagger_client.models.predictor_spec import PredictorSpec\n",
    "from swagger_client.models.predictive_unit import PredictiveUnit\n",
    "from swagger_client.models.logger import Logger\n",
    "from swagger_client.models.object_meta import ObjectMeta\n",
    "from swagger_client.models.type_meta import TypeMeta\n",
    "from swagger_client.models.explainer import Explainer\n",
    "\n",
    "model_name=\"income-classifier\"\n",
    "sd = SeldonDeployment(kind=\"SeldonDeployment\",\n",
    "                      api_version=\"v1\",\n",
    "                      metadata=ObjectMeta(name=model_name,namespace=namespace),\n",
    "                      spec=SeldonDeploymentSpec(predictors=[\n",
    "                          PredictorSpec(graph=PredictiveUnit(implementation=\"SKLEARN_SERVER\",\n",
    "                                                             model_uri=\"s3://seldon/sklearn/income/model\",\n",
    "                                                             env_secret_ref_name=\"seldon-init-container-secret\",\n",
    "                                                             name=\"classifier\",\n",
    "                                                             logger=Logger(mode=\"all\",url=\"http://broker-ingress.knative-eventing.svc.cluster.local/seldon-logs/default\")),\n",
    "                                        explainer=Explainer(type=\"AnchorTabular\",\n",
    "                                                            model_uri=\"s3://seldon/sklearn/income/explainer\",\n",
    "                                                            env_secret_ref_name=\"seldon-init-container-secret\"),\n",
    "                                        name=\"default\",\n",
    "                                        replicas=1)\n",
    "                      ]))\n",
    "created = dep_instance.create_seldon_deployment(namespace, sd)"
   ]
  },
  {
   "cell_type": "markdown",
   "metadata": {
    "tags": []
   },
   "source": [
    "Wait for the Deployment to be ready"
   ]
  },
  {
   "cell_type": "code",
   "execution_count": 96,
   "metadata": {
    "tags": []
   },
   "outputs": [
    {
     "name": "stdout",
     "output_type": "stream",
     "text": [
      "Creating\n",
      "Creating\n",
      "Creating\n",
      "Creating\n",
      "Creating\n",
      "Creating\n",
      "Creating\n",
      "Creating\n",
      "Creating\n",
      "Creating\n",
      "Creating\n",
      "Creating\n",
      "Creating\n",
      "Available\n"
     ]
    }
   ],
   "source": [
    "state = \"\"\n",
    "while not state == \"Available\":\n",
    "    res = dep_instance.list_seldon_deployments(namespace)\n",
    "    for sd in res.items:\n",
    "        state = sd.status.state\n",
    "        print(sd.status.state)\n",
    "    time.sleep(2)\n",
    "time.sleep(10)"
   ]
  },
  {
   "cell_type": "markdown",
   "metadata": {
    "tags": []
   },
   "source": [
    "Make a prediction request with the Seldon Deploy API"
   ]
  },
  {
   "cell_type": "code",
   "execution_count": 97,
   "metadata": {
    "tags": []
   },
   "outputs": [
    {
     "name": "stdout",
     "output_type": "stream",
     "text": [
      "{'data': {'names': ['t:0', 't:1'], 'ndarray': [[0.88, 0.12]]}, 'meta': {'requestPath': {'classifier': 'seldonio/sklearnserver:1.5.0-dev'}}}\n"
     ]
    }
   ],
   "source": [
    "cookie = authenticate()\n",
    "payload='{\"data\": {\"ndarray\": [[53,4,0,2,8,4,4,0,0,0,60,9]]}}'\n",
    "cookie_str = f\"{KF_SESSION_COOKIE_NAME}={cookie}\"\n",
    "predict_instance = swagger_client.PredictApi(swagger_client.ApiClient(configuration,cookie=cookie_str))\n",
    "prediction = predict_instance.predict_seldon_deployment(model_name,namespace, prediction={\"data\": {\"ndarray\": [[53,4,0,2,8,4,4,0,0,0,60,9]]}})\n",
    "print(prediction)"
   ]
  },
  {
   "cell_type": "code",
   "execution_count": 98,
   "metadata": {
    "tags": []
   },
   "outputs": [
    {
     "name": "stdout",
     "output_type": "stream",
     "text": [
      "{'data': {'anchor': ['Marital Status = Separated', 'Sex = Female'], 'coverage': 0.18063333333333334, 'precision': 0.961218836565097, 'raw': {'all_precision': 0, 'coverage': [0.18063333333333334, 0.18063333333333334], 'examples': [{'covered_false': [[44, 5, 1, 2, 8, 0, 4, 1, 99999, 0, 45, 9], [38, 4, 0, 2, 6, 0, 4, 1, 0, 0, 50, 9], [47, 6, 6, 2, 5, 0, 4, 1, 0, 1977, 50, 9], [64, 6, 6, 2, 5, 0, 4, 1, 0, 0, 9, 9], [45, 4, 3, 2, 2, 1, 4, 1, 0, 2824, 76, 9], [33, 1, 6, 2, 5, 1, 4, 0, 0, 0, 65, 9], [61, 4, 4, 2, 2, 4, 1, 1, 0, 0, 45, 9], [32, 7, 6, 2, 5, 0, 4, 1, 0, 0, 75, 9], [29, 4, 1, 2, 6, 0, 4, 1, 0, 0, 45, 9], [47, 4, 1, 2, 8, 0, 4, 1, 0, 0, 60, 9]], 'covered_true': [[58, 2, 4, 2, 4, 0, 4, 1, 3908, 0, 40, 9], [27, 2, 4, 2, 4, 0, 4, 1, 0, 0, 60, 9], [48, 4, 4, 2, 6, 0, 4, 1, 0, 0, 50, 9], [36, 2, 4, 2, 1, 1, 4, 1, 0, 0, 40, 9], [39, 4, 4, 2, 2, 1, 4, 1, 0, 0, 65, 9], [40, 4, 0, 2, 6, 0, 4, 1, 0, 0, 50, 9], [33, 7, 2, 2, 5, 0, 1, 1, 0, 0, 50, 2], [48, 0, 4, 2, 0, 5, 4, 0, 0, 0, 20, 9], [42, 6, 1, 2, 2, 0, 4, 1, 0, 0, 50, 9], [55, 4, 1, 2, 6, 0, 4, 1, 0, 0, 40, 9]], 'uncovered_false': [], 'uncovered_true': []}, {'covered_false': [[39, 1, 6, 2, 5, 1, 4, 0, 0, 0, 55, 9], [40, 2, 5, 2, 8, 0, 4, 0, 0, 0, 60, 9], [50, 4, 1, 2, 4, 0, 4, 0, 15024, 0, 40, 9], [48, 5, 1, 2, 8, 0, 4, 0, 7298, 0, 50, 9]], 'covered_true': [[36, 4, 1, 2, 5, 5, 4, 0, 0, 0, 40, 9], [33, 4, 4, 2, 4, 1, 2, 0, 0, 0, 40, 7], [26, 4, 4, 2, 8, 5, 4, 0, 5013, 0, 40, 9], [65, 4, 1, 2, 8, 0, 4, 0, 0, 0, 40, 9], [21, 4, 4, 2, 6, 3, 4, 0, 0, 0, 35, 9], [30, 6, 4, 2, 5, 0, 4, 0, 0, 0, 25, 9], [57, 4, 4, 2, 2, 0, 4, 0, 0, 0, 50, 9], [22, 0, 4, 2, 0, 5, 4, 0, 0, 0, 22, 9], [22, 7, 4, 2, 1, 4, 2, 0, 0, 0, 40, 9], [36, 4, 4, 2, 2, 4, 4, 0, 0, 0, 40, 6]], 'uncovered_false': [], 'uncovered_true': []}], 'feature': [3, 7], 'instance': [53, 4, 0, 2, 8, 4, 4, 0, 0, 0, 60, 9], 'instances': [[53, 4, 0, 2, 8, 4, 4, 0, 0, 0, 60, 9]], 'mean': [0.8777876895628903, 0.961218836565097], 'names': ['Marital Status = Separated', 'Sex = Female'], 'num_preds': 1000000, 'precision': [0.8777876895628903, 0.961218836565097], 'prediction': [0], 'success': True}}, 'meta': {'explanations': ['local'], 'name': 'AnchorTabular', 'params': {'batch_size': 100, 'beam_size': 1, 'binary_cache_size': 10000, 'cache_margin': 1000, 'coverage_samples': 10000, 'delta': 0.1, 'disc_perc': [25, 50, 75], 'kwargs': {}, 'max_anchor_size': None, 'min_samples_start': 100, 'n_covered_ex': 10, 'seed': None, 'stop_on_first': False, 'tau': 0.15, 'threshold': 0.95, 'verbose': False, 'verbose_every': 1}, 'type': ['blackbox']}}\n"
     ]
    }
   ],
   "source": [
    "explain_instance = swagger_client.ExplainerApi(swagger_client.ApiClient(configuration,cookie=cookie_str))\n",
    "tries = 0\n",
    "try:\n",
    "    explanation = explain_instance.explain_seldon_deployment(namespace,model_name,explaindata={\"data\": {\"ndarray\": [[53,4,0,2,8,4,4,0,0,0,60,9]]}})\n",
    "    print(explanation)\n",
    "except ApiException as e:\n",
    "    print(e)\n",
    "    if tries > 5:\n",
    "        raise e\n",
    "    print(\"Retrying\")\n",
    "    tries = tries +1\n",
    "    time.sleep(5)"
   ]
  },
  {
   "cell_type": "markdown",
   "metadata": {
    "tags": []
   },
   "source": [
    "## Deploy Outier Detector"
   ]
  },
  {
   "cell_type": "code",
   "execution_count": 99,
   "metadata": {
    "tags": [
     "block:deploy_outlier",
     "prev:deploy_seldon"
    ]
   },
   "outputs": [],
   "source": [
    "configuration = get_swagger_configuration()\n",
    "outlier = swagger_client.OutlierDetectorApi(swagger_client.ApiClient(configuration))\n",
    "outlier_params = {\n",
    "\"params\": {\n",
    "    \"event_source\": \"io.seldon.serving.incomeod\",\n",
    "    \"event_type\": \"io.seldon.serving.inference.outlier\",\n",
    "    \"http_port\": \"8080\",\n",
    "    \"model_name\": \"adultod\",\n",
    "    \"protocol\": \"seldon.http\",\n",
    "    \"reply_url\": \"http://hello-display.\"+namespace,\n",
    "    \"storage_uri\": \"s3://seldon/sklearn/income/outlier\",\n",
    "    \"env_secret_ref\": \"seldon-init-container-secret\"\n",
    "  }\n",
    "}\n",
    "res = outlier.create_outlier_detector_seldon_deployment(model_name, namespace, outlier_detector=outlier_params)"
   ]
  },
  {
   "cell_type": "markdown",
   "metadata": {
    "tags": []
   },
   "source": [
    "## Deploy KNative Eventing Event Display"
   ]
  },
  {
   "cell_type": "code",
   "execution_count": 89,
   "metadata": {
    "tags": [
     "block:deploy_event_display",
     "prev:deploy_outlier"
    ]
   },
   "outputs": [
    {
     "data": {
      "text/plain": [
       "CompletedProcess(args='kubectl apply -f event_display.yaml', returncode=0)"
      ]
     },
     "execution_count": 89,
     "metadata": {},
     "output_type": "execute_result"
    }
   ],
   "source": [
    "event_display=f\"\"\"apiVersion: apps/v1\n",
    "kind: Deployment\n",
    "metadata:\n",
    "  name: hello-display\n",
    "  namespace: {DEPLOY_NAMESPACE}\n",
    "spec:\n",
    "  replicas: 1\n",
    "  selector:\n",
    "    matchLabels: &labels\n",
    "      app: hello-display\n",
    "  template:\n",
    "    metadata:\n",
    "      labels: *labels\n",
    "    spec:\n",
    "      containers:\n",
    "        - name: event-display\n",
    "          image: gcr.io/knative-releases/knative.dev/eventing-contrib/cmd/event_display\n",
    "\n",
    "---\n",
    "\n",
    "kind: Service\n",
    "apiVersion: v1\n",
    "metadata:\n",
    "  name: hello-display\n",
    "  namespace: {DEPLOY_NAMESPACE}\n",
    "spec:\n",
    "  selector:\n",
    "    app: hello-display\n",
    "  ports:\n",
    "  - protocol: TCP\n",
    "    port: 80\n",
    "    targetPort: 8080\n",
    "\"\"\"\n",
    "with open(\"event_display.yaml\",\"w\") as f:\n",
    "    f.write(event_display)\n",
    "run(\"kubectl apply -f event_display.yaml\", shell=True)"
   ]
  },
  {
   "cell_type": "code",
   "execution_count": 91,
   "metadata": {
    "tags": []
   },
   "outputs": [
    {
     "data": {
      "text/plain": [
       "CompletedProcess(args='kubectl rollout status -n admin deploy/hello-display -n admin', returncode=0)"
      ]
     },
     "execution_count": 91,
     "metadata": {},
     "output_type": "execute_result"
    }
   ],
   "source": [
    "run(f\"kubectl rollout status -n {DEPLOY_NAMESPACE} deploy/hello-display -n {DEPLOY_NAMESPACE}\", shell=True)"
   ]
  },
  {
   "cell_type": "markdown",
   "metadata": {
    "tags": []
   },
   "source": [
    "## Test Outlier Detection"
   ]
  },
  {
   "cell_type": "code",
   "execution_count": 100,
   "metadata": {
    "tags": [
     "block:test_outlier_detection",
     "prev:deploy_event_display"
    ]
   },
   "outputs": [],
   "source": [
    "def predict():\n",
    "    configuration = get_swagger_configuration()\n",
    "    cookie = authenticate()\n",
    "    cookie_str = f\"{KF_SESSION_COOKIE_NAME}={cookie}\"\n",
    "    predict_instance = swagger_client.PredictApi(swagger_client.ApiClient(configuration,cookie=cookie_str))\n",
    "    prediction = predict_instance.predict_seldon_deployment(model_name,namespace, prediction={\"data\": {\"ndarray\": [[3000,4,4,2,1,4,4,0,0,0,600,9]]}})\n",
    "    print(prediction)"
   ]
  },
  {
   "cell_type": "code",
   "execution_count": 102,
   "metadata": {
    "tags": []
   },
   "outputs": [
    {
     "name": "stdout",
     "output_type": "stream",
     "text": [
      "{'data': {'names': ['t:0', 't:1'], 'ndarray': [[0.92, 0.08]]}, 'meta': {'requestPath': {'classifier': 'seldonio/sklearnserver:1.5.0-dev'}}}\n",
      "Waiting for outlier logs, sleeping\n",
      "{'data': {'is_outlier': [1]}, 'meta': {'name': 'IForest', 'detector_type': 'offline', 'data_type': 'tabular'}}\n",
      "{'data': {'is_outlier': [1]}, 'meta': {'name': 'IForest', 'detector_type': 'offline', 'data_type': 'tabular'}}\n",
      "{'data': {'is_outlier': [1]}, 'meta': {'name': 'IForest', 'detector_type': 'offline', 'data_type': 'tabular'}}\n",
      "{'data': {'is_outlier': [1]}, 'meta': {'name': 'IForest', 'detector_type': 'offline', 'data_type': 'tabular'}}\n",
      "{'data': {'is_outlier': [1]}, 'meta': {'name': 'IForest', 'detector_type': 'offline', 'data_type': 'tabular'}}\n",
      "{'data': {'is_outlier': [1]}, 'meta': {'name': 'IForest', 'detector_type': 'offline', 'data_type': 'tabular'}}\n",
      "{'data': {'is_outlier': [1]}, 'meta': {'name': 'IForest', 'detector_type': 'offline', 'data_type': 'tabular'}}\n",
      "{'data': {'is_outlier': [1]}, 'meta': {'name': 'IForest', 'detector_type': 'offline', 'data_type': 'tabular'}}\n",
      "{'data': {'is_outlier': [1]}, 'meta': {'name': 'IForest', 'detector_type': 'offline', 'data_type': 'tabular'}}\n",
      "{'data': {'is_outlier': [1]}, 'meta': {'name': 'IForest', 'detector_type': 'offline', 'data_type': 'tabular'}}\n",
      "{'data': {'is_outlier': [1]}, 'meta': {'name': 'IForest', 'detector_type': 'offline', 'data_type': 'tabular'}}\n",
      "{'data': {'is_outlier': [1]}, 'meta': {'name': 'IForest', 'detector_type': 'offline', 'data_type': 'tabular'}}\n",
      "{'data': {'is_outlier': [1]}, 'meta': {'name': 'IForest', 'detector_type': 'offline', 'data_type': 'tabular'}}\n",
      "{'data': {'is_outlier': [1]}, 'meta': {'name': 'IForest', 'detector_type': 'offline', 'data_type': 'tabular'}}\n",
      "{'data': {'is_outlier': [1]}, 'meta': {'name': 'IForest', 'detector_type': 'offline', 'data_type': 'tabular'}}\n",
      "{'data': {'is_outlier': [1]}, 'meta': {'name': 'IForest', 'detector_type': 'offline', 'data_type': 'tabular'}}\n",
      "{'data': {'is_outlier': [1]}, 'meta': {'name': 'IForest', 'detector_type': 'offline', 'data_type': 'tabular'}}\n",
      "Outlier True\n"
     ]
    }
   ],
   "source": [
    "\n",
    "\n",
    "\n",
    "def get_outlier_event_display_logs():\n",
    "    cmd=f\"kubectl logs $(kubectl get pod -l app=hello-display -o jsonpath='{{.items[0].metadata.name}}' -n {DEPLOY_NAMESPACE}) -n {DEPLOY_NAMESPACE}\"\n",
    "    ret = Popen(cmd, shell=True,stdout=PIPE)\n",
    "    res = ret.stdout.read().decode(\"utf-8\").split(\"\\n\")\n",
    "    data= []\n",
    "    for i in range(0,len(res)):\n",
    "        if res[i] == 'Data,':\n",
    "            j = json.loads(json.loads(res[i+1]))\n",
    "            print(j)\n",
    "            if \"is_outlier\"in j[\"data\"].keys():\n",
    "                data.append(j)\n",
    "    if len(data) > 0:\n",
    "        return data[-1]\n",
    "    else:\n",
    "        return None\n",
    "j = None\n",
    "while j is None:\n",
    "    predict()\n",
    "    print(\"Waiting for outlier logs, sleeping\")\n",
    "    time.sleep(2)\n",
    "    j = get_outlier_event_display_logs()\n",
    "    \n",
    "print(j)\n",
    "print(\"Outlier\",j[\"data\"][\"is_outlier\"]==[1])"
   ]
  },
  {
   "cell_type": "markdown",
   "metadata": {
    "tags": []
   },
   "source": [
    "## Clean Up Resources"
   ]
  },
  {
   "cell_type": "code",
   "execution_count": 103,
   "metadata": {
    "tags": [
     "skip"
    ]
   },
   "outputs": [
    {
     "data": {
      "text/plain": [
       "<urllib3.response.HTTPResponse at 0x7ffa89888fd0>"
      ]
     },
     "execution_count": 103,
     "metadata": {},
     "output_type": "execute_result"
    }
   ],
   "source": [
    "outlier.delete_outlier_detector_seldon_deployment(model_name, namespace, _preload_content=False)\n",
    "dep_instance.delete_seldon_deployment(model_name, namespace, _preload_content=False)"
   ]
  },
  {
   "cell_type": "code",
   "execution_count": 107,
   "metadata": {
    "tags": [
     "skip"
    ]
   },
   "outputs": [
    {
     "data": {
      "text/plain": [
       "CompletedProcess(args='kubectl delete trigger income-outlier-display -n admin', returncode=1)"
      ]
     },
     "execution_count": 107,
     "metadata": {},
     "output_type": "execute_result"
    }
   ],
   "source": [
    "run(f\"kubectl delete sa  minio-sa -n {DEPLOY_NAMESPACE}\", shell=True)\n",
    "run(f\"kubectl delete sa  minio-sa -n seldon-logs\", shell=True)\n",
    "run(f\"kubectl delete secret seldon-init-container-secret -n {DEPLOY_NAMESPACE}\", shell=True)\n",
    "run(f\"kubectl delete secret seldon-init-container-secret -n seldon-logs\", shell=True)\n",
    "run(f\"kubectl delete deployment hello-display -n {DEPLOY_NAMESPACE}\", shell=True)\n",
    "run(f\"kubectl delete svc hello-display -n {DEPLOY_NAMESPACE}\", shell=True)\n",
    "run(f\"kubectl delete trigger income-outlier-display -n {DEPLOY_NAMESPACE}\", shell=True)"
   ]
  },
  {
   "cell_type": "code",
   "execution_count": null,
   "metadata": {
    "tags": []
   },
   "outputs": [],
   "source": []
  }
 ],
 "metadata": {
  "kernelspec": {
   "display_name": "Python 3",
   "language": "python",
   "name": "python3"
  },
  "kubeflow_notebook": {
   "docker_image": "seldonio/jupyter-lab-alibi-kale:0.23",
   "experiment": {
    "id": "new",
    "name": "seldon-e2e-adult"
   },
   "experiment_name": "seldon-e2e-adult",
   "katib_metadata": {
    "algorithm": {
     "algorithmName": "grid"
    },
    "maxFailedTrialCount": 3,
    "maxTrialCount": 12,
    "objective": {
     "objectiveMetricName": "",
     "type": "minimize"
    },
    "parallelTrialCount": 3,
    "parameters": []
   },
   "katib_run": false,
   "pipeline_description": "Seldon e2e adult",
   "pipeline_name": "seldon-e2e-adult",
   "volumes": []
  },
  "language_info": {
   "codemirror_mode": {
    "name": "ipython",
    "version": 3
   },
   "file_extension": ".py",
   "mimetype": "text/x-python",
   "name": "python",
   "nbconvert_exporter": "python",
   "pygments_lexer": "ipython3",
   "version": "3.6.8"
  },
  "varInspector": {
   "cols": {
    "lenName": 16,
    "lenType": 16,
    "lenVar": 40
   },
   "kernels_config": {
    "python": {
     "delete_cmd_postfix": "",
     "delete_cmd_prefix": "del ",
     "library": "var_list.py",
     "varRefreshCmd": "print(var_dic_list())"
    },
    "r": {
     "delete_cmd_postfix": ") ",
     "delete_cmd_prefix": "rm(",
     "library": "var_list.r",
     "varRefreshCmd": "cat(var_dic_list()) "
    }
   },
   "types_to_exclude": [
    "module",
    "function",
    "builtin_function_or_method",
    "instance",
    "_Feature"
   ],
   "window_display": false
  }
 },
 "nbformat": 4,
 "nbformat_minor": 4
}
